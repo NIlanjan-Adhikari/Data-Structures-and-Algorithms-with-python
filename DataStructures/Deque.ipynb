{
 "cells": [
  {
   "cell_type": "markdown",
   "id": "074063f2",
   "metadata": {},
   "source": [
    "# Deque\n",
    "https://www.geeksforgeeks.org/deque-set-1-introduction-applications/\n",
    "\n",
    "Deque or Double Ended Queue is a generalized version of Queue data structure that allows insert and delete at both ends.<br>\n",
    "<b>Operations on Deque:</b><br>\n",
    "Mainly the following four basic operations are performed on queue:<br>\n",
    "insertFront(): Adds an item at the front of Deque.<br>\n",
    "insertLast(): Adds an item at the rear of Deque.<br>\n",
    "deleteFront(): Deletes an item from front of Deque.<br>\n",
    "deleteLast(): Deletes an item from rear of Deque.<br>\n",
    "getFront(): Gets the front item from queue.<br>\n",
    "getRear(): Gets the last item from queue.<br>\n",
    "isEmpty(): Checks whether Deque is empty or not.<br>\n",
    "isFull(): Checks whether Deque is full or not.\n",
    "\n",
    "Since Deque supports both stack and queue operations, it can be used as both. The Deque data structure supports clockwise and anticlockwise rotations in O(1) time which can be useful in certain applications.\n",
    "Also, the problems where elements need to be removed and or added both ends can be efficiently solved using Deque. \n",
    "\n",
    "Deque (Doubly Ended Queue) in Python is implemented using the module “collections“. Deque is preferred over list in the cases where we need quicker append and pop operations from both the ends of container, as deque provides an O(1) time complexity for append and pop operations as compared to list which provides O(n) time complexity."
   ]
  },
  {
   "cell_type": "code",
   "execution_count": 1,
   "id": "ba7faaf3",
   "metadata": {},
   "outputs": [
    {
     "name": "stdout",
     "output_type": "stream",
     "text": [
      "deque(['name', 'age', 'DOB'])\n"
     ]
    }
   ],
   "source": [
    "from collections import deque \n",
    "      \n",
    "# Declaring deque \n",
    "queue = deque(['name','age','DOB'])  \n",
    "      \n",
    "print(queue)"
   ]
  },
  {
   "cell_type": "markdown",
   "id": "a0f2cab4",
   "metadata": {},
   "source": [
    "append() :- This function is used to insert the value in its argument to the right end of deque.<br>\n",
    "appendleft() :- This function is used to insert the value in its argument to the left end of deque.<br>\n",
    "pop() :- This function is used to delete an argument from the right end of deque.<br>\n",
    "popleft() :- This function is used to delete an argument from the left end of deque. "
   ]
  },
  {
   "cell_type": "code",
   "execution_count": 2,
   "id": "aa4399dd",
   "metadata": {},
   "outputs": [
    {
     "name": "stdout",
     "output_type": "stream",
     "text": [
      "The deque after appending at right is : \n",
      "deque([1, 2, 3, 4])\n",
      "The deque after appending at left is : \n",
      "deque([6, 1, 2, 3, 4])\n",
      "The deque after deleting from right is : \n",
      "deque([6, 1, 2, 3])\n",
      "The deque after deleting from left is : \n",
      "deque([1, 2, 3])\n"
     ]
    }
   ],
   "source": [
    "# importing \"collections\" for deque operations\n",
    "import collections\n",
    "  \n",
    "# initializing deque\n",
    "de = collections.deque([1,2,3])\n",
    "  \n",
    "# using append() to insert element at right end \n",
    "# inserts 4 at the end of deque\n",
    "de.append(4)\n",
    "  \n",
    "# printing modified deque\n",
    "print (\"The deque after appending at right is : \")\n",
    "print (de)\n",
    "  \n",
    "# using appendleft() to insert element at left end \n",
    "# inserts 6 at the beginning of deque\n",
    "de.appendleft(6)\n",
    "  \n",
    "# printing modified deque\n",
    "print (\"The deque after appending at left is : \")\n",
    "print (de)\n",
    "  \n",
    "# using pop() to delete element from right end \n",
    "# deletes 4 from the right end of deque\n",
    "de.pop()\n",
    "  \n",
    "# printing modified deque\n",
    "print (\"The deque after deleting from right is : \")\n",
    "print (de)\n",
    "  \n",
    "# using popleft() to delete element from left end \n",
    "# deletes 6 from the left end of deque\n",
    "de.popleft()\n",
    "  \n",
    "# printing modified deque\n",
    "print (\"The deque after deleting from left is : \")\n",
    "print (de)"
   ]
  },
  {
   "cell_type": "markdown",
   "id": "059f8619",
   "metadata": {},
   "source": [
    "index(ele, beg, end) :- This function returns the first index of the value mentioned in arguments, starting searching from beg till end index.<br>\n",
    "insert(i, a) :- This function inserts the value mentioned in arguments(a) at index(i) specified in arguments.<br>\n",
    "remove() :- This function removes the first occurrence of value mentioned in arguments.<br>\n",
    "count() :- This function counts the number of occurrences of value mentioned in arguments. "
   ]
  },
  {
   "cell_type": "code",
   "execution_count": 3,
   "id": "975f81e7",
   "metadata": {},
   "outputs": [
    {
     "name": "stdout",
     "output_type": "stream",
     "text": [
      "The number 4 first occurs at a position : \n",
      "4\n",
      "The deque after inserting 3 at 5th position is : \n",
      "deque([1, 2, 3, 3, 3, 4, 2, 4])\n",
      "The count of 3 in deque is : \n",
      "3\n",
      "The deque after deleting first occurrence of 3 is : \n",
      "deque([1, 2, 3, 3, 4, 2, 4])\n"
     ]
    }
   ],
   "source": [
    "# importing \"collections\" for deque operations\n",
    "import collections\n",
    "  \n",
    "# initializing deque\n",
    "de = collections.deque([1, 2, 3, 3, 4, 2, 4])\n",
    "  \n",
    "# using index() to print the first occurrence of 4\n",
    "print (\"The number 4 first occurs at a position : \")\n",
    "print (de.index(4,2,5))\n",
    "  \n",
    "# using insert() to insert the value 3 at 5th position\n",
    "de.insert(4,3)\n",
    "  \n",
    "# printing modified deque\n",
    "print (\"The deque after inserting 3 at 5th position is : \")\n",
    "print (de)\n",
    "  \n",
    "# using count() to count the occurrences of 3\n",
    "print (\"The count of 3 in deque is : \")\n",
    "print (de.count(3))\n",
    "  \n",
    "# using remove() to remove the first occurrence of 3\n",
    "de.remove(3)\n",
    "  \n",
    "# printing modified deque\n",
    "print (\"The deque after deleting first occurrence of 3 is : \")\n",
    "print (de)"
   ]
  },
  {
   "cell_type": "markdown",
   "id": "8d385e65",
   "metadata": {},
   "source": [
    "extend(iterable) :- This function is used to add multiple values at the right end of deque. The argument passed is an iterable.<br>\n",
    " \n",
    "extendleft(iterable) :- This function is used to add multiple values at the left end of deque. The argument passed is an iterable. Order is reversed as a result of left appends.<br>\n",
    " \n",
    "reverse() :- This function is used to reverse order of deque elements.<br>\n",
    " \n",
    "rotate() :- This function rotates the deque by the number specified in arguments. If the number specified is negative, rotation occurs to left. Else rotation is to right.  "
   ]
  },
  {
   "cell_type": "code",
   "execution_count": 4,
   "id": "2fd5a9f1",
   "metadata": {},
   "outputs": [
    {
     "name": "stdout",
     "output_type": "stream",
     "text": [
      "The deque after extending deque at end is : \n",
      "deque([1, 2, 3, 4, 5, 6])\n",
      "The deque after extending deque at beginning is : \n",
      "deque([9, 8, 7, 1, 2, 3, 4, 5, 6])\n",
      "The deque after rotating deque is : \n",
      "deque([1, 2, 3, 4, 5, 6, 9, 8, 7])\n",
      "The deque after reversing deque is : \n",
      "deque([7, 8, 9, 6, 5, 4, 3, 2, 1])\n"
     ]
    }
   ],
   "source": [
    "# importing \"collections\" for deque operations\n",
    "import collections\n",
    "  \n",
    "# initializing deque\n",
    "de = collections.deque([1, 2, 3,])\n",
    "  \n",
    "# using extend() to add numbers to right end \n",
    "# adds 4,5,6 to right end\n",
    "de.extend([4,5,6])\n",
    "  \n",
    "# printing modified deque\n",
    "print (\"The deque after extending deque at end is : \")\n",
    "print (de)\n",
    "  \n",
    "# using extendleft() to add numbers to left end \n",
    "# adds 7,8,9 to right end\n",
    "de.extendleft([7,8,9])\n",
    "  \n",
    "# printing modified deque\n",
    "print (\"The deque after extending deque at beginning is : \")\n",
    "print (de)\n",
    "  \n",
    "# using rotate() to rotate the deque\n",
    "# rotates by 3 to left\n",
    "de.rotate(-3)\n",
    "  \n",
    "# printing modified deque\n",
    "print (\"The deque after rotating deque is : \")\n",
    "print (de)\n",
    "  \n",
    "# using reverse() to reverse the deque\n",
    "de.reverse()\n",
    "  \n",
    "# printing modified deque\n",
    "print (\"The deque after reversing deque is : \")\n",
    "print (de)"
   ]
  },
  {
   "cell_type": "code",
   "execution_count": null,
   "id": "e351169f",
   "metadata": {},
   "outputs": [],
   "source": []
  }
 ],
 "metadata": {
  "kernelspec": {
   "display_name": "Python 3",
   "language": "python",
   "name": "python3"
  },
  "language_info": {
   "codemirror_mode": {
    "name": "ipython",
    "version": 3
   },
   "file_extension": ".py",
   "mimetype": "text/x-python",
   "name": "python",
   "nbconvert_exporter": "python",
   "pygments_lexer": "ipython3",
   "version": "3.7.10"
  }
 },
 "nbformat": 4,
 "nbformat_minor": 5
}
