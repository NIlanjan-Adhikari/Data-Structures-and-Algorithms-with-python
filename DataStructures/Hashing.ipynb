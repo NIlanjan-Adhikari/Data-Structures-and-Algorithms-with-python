{
 "cells": [
  {
   "cell_type": "markdown",
   "id": "7372caec",
   "metadata": {},
   "source": [
    "# Hashing Data Structure\n",
    "https://www.geeksforgeeks.org/hashing-data-structure/\n",
    "\n",
    "search, insert, delete -> O(1) on average<br>\n",
    "sorted Arrays take O(logn) for search, O(n) for insert and delete<br>\n",
    "BST(AVL tree or Red Black tree) take O(logn) time for search, insert, delete\n",
    "\n",
    "Hashing is not used in:--<br>\n",
    "1. Finding closest value \n",
    "2. Sorted data\n",
    "3. Prefix Searching\n",
    "\n",
    "For first two AVL Tree or Red black Tree (self balancing binary search tree) are used and for the last one Trie data structure is used"
   ]
  },
  {
   "cell_type": "code",
   "execution_count": null,
   "id": "9ec93e05",
   "metadata": {},
   "outputs": [],
   "source": []
  }
 ],
 "metadata": {
  "kernelspec": {
   "display_name": "Python 3",
   "language": "python",
   "name": "python3"
  },
  "language_info": {
   "codemirror_mode": {
    "name": "ipython",
    "version": 3
   },
   "file_extension": ".py",
   "mimetype": "text/x-python",
   "name": "python",
   "nbconvert_exporter": "python",
   "pygments_lexer": "ipython3",
   "version": "3.7.10"
  }
 },
 "nbformat": 4,
 "nbformat_minor": 5
}
