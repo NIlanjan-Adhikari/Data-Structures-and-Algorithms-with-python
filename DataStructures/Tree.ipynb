{
 "cells": [
  {
   "cell_type": "markdown",
   "id": "ead2f6b9",
   "metadata": {},
   "source": [
    "# Binary Tree\n",
    "\n",
    "https://www.geeksforgeeks.org/binary-tree-data-structure/ <br>\n",
    "A tree whose elements have at most 2 children is called a binary tree. Since each element in a binary tree can have only 2 children, we typically name them the left and right child.\n",
    "A Binary Tree node contains following parts:<br>\n",
    "Data<br>\n",
    "Pointer to left child<br>\n",
    "Pointer to right child<br>\n",
    "Unlike Arrays, Linked Lists, Stack and queues, which are linear data structures, trees are hierarchical data structures.\n",
    "\n",
    "      tree\n",
    "      ----\n",
    "       j    <-- root\n",
    "     /   \\\n",
    "    f     k\n",
    "    /\\     \\\n",
    "    a h     z<-- leaves\n",
    " \n",
    "The topmost node is called root of the tree. The elements that are directly under an element are called its children. The element directly above something is called its parent. For example, ‘a’ is a child of ‘f’, and ‘f’ is the parent of ‘a’. Finally, elements with no children are called leaves. "
   ]
  },
  {
   "cell_type": "code",
   "execution_count": 1,
   "id": "7ae4872d",
   "metadata": {},
   "outputs": [],
   "source": [
    "class Node:\n",
    "    def __init__(self,key):\n",
    "        self.left = None\n",
    "        self.right = None\n",
    "        self.val = key"
   ]
  },
  {
   "cell_type": "code",
   "execution_count": 2,
   "id": "63c19ef6",
   "metadata": {},
   "outputs": [],
   "source": [
    "root = Node(1)\n",
    "root.left = Node(2)\n",
    "root.right = Node(3)\n",
    "root.left.left = Node(4)"
   ]
  },
  {
   "cell_type": "markdown",
   "id": "74c47b4e",
   "metadata": {},
   "source": [
    "           1\n",
    "       /       \\\n",
    "      2          3\n",
    "    /   \\       /  \\\n",
    "   4    None  None  None\n",
    "  /  \\\n",
    "None None"
   ]
  },
  {
   "attachments": {
    "image.png": {
     "image/png": "[encoded data removed]"
    }
   },
   "cell_type": "markdown",
   "id": "e5c7dbef",
   "metadata": {},
   "source": [
    "## Tree Traversals\n",
    "https://www.geeksforgeeks.org/tree-traversals-inorder-preorder-and-postorder/\n",
    "\n",
    "Unlike linear data structures (Array, Linked List, Queues, Stacks, etc) which have only one logical way to traverse them, trees can be traversed in different ways. Following are the generally used ways for traversing trees.\n",
    "![image.png](attachment:image.png)\n",
    "\n",
    "<b>Depth First Traversals:</b><br> \n",
    "(a) Inorder (Left, Root, Right) : 4 2 5 1 3 <br>\n",
    "(b) Preorder (Root, Left, Right) : 1 2 4 5 3 <br>\n",
    "(c) Postorder (Left, Right, Root) : 4 5 2 3 1 <br>\n",
    "<b>Breadth-First Traversal:</b> <br>\n",
    "(a) Level Order Traversal : 1 2 3 4 5 \n",
    "\n",
    "<b>Time Complexity:</b> theta(n)<br>\n",
    "<b>Auxiliary Space:</b>  If we don’t consider the size of the stack for function calls then O(1) otherwise O(h) where h is the height of the tree. \n",
    "\n",
    "The height of the skewed tree is n (no. of elements) so the worst space complexity is O(n) and height is (Log n) for the balanced tree so the best space complexity is O(Log n)."
   ]
  },
  {
   "cell_type": "code",
   "execution_count": 7,
   "id": "9c6c1e79",
   "metadata": {},
   "outputs": [],
   "source": [
    "class Node:\n",
    "    def __init__(self, key):\n",
    "        self.left = None\n",
    "        self.right = None\n",
    "        self.val = key"
   ]
  },
  {
   "cell_type": "markdown",
   "id": "2d382054",
   "metadata": {},
   "source": [
    "### Inorder Traversal\n",
    "Algorithm Inorder(tree)<br>\n",
    "   1. Traverse the left subtree, i.e., call Inorder(left-subtree)<br>\n",
    "   2. Visit the root.<br>\n",
    "   3. Traverse the right subtree, i.e., call Inorder(right-subtree)<br>\n",
    "   \n",
    "In the case of binary search trees (BST), Inorder traversal gives nodes in non-decreasing order. To get nodes of BST in non-increasing order, a variation of Inorder traversal where Inorder traversal's reversed can be used. \n",
    "Example: In order traversal for the above-given figure is 4 2 5 1 3."
   ]
  },
  {
   "cell_type": "code",
   "execution_count": 13,
   "id": "8ca9ad0e",
   "metadata": {},
   "outputs": [],
   "source": [
    "# A function to do inorder tree traversal\n",
    "def printInorder(root):\n",
    " \n",
    "    if root:\n",
    " \n",
    "        # First recur on left child\n",
    "        printInorder(root.left)\n",
    " \n",
    "        # then print the data of node\n",
    "        print(root.val)\n",
    " \n",
    "        # now recur on right child\n",
    "        printInorder(root.right)"
   ]
  },
  {
   "cell_type": "markdown",
   "id": "b1a0739c",
   "metadata": {},
   "source": [
    "### Preorder Traversal\n",
    "Algorithm Preorder(tree)<br>\n",
    "   1. Visit the root.<br>\n",
    "   2. Traverse the left subtree, i.e., call Preorder(left-subtree)<br>\n",
    "   3. Traverse the right subtree, i.e., call Preorder(right-subtree)<br>\n",
    "\n",
    "Preorder traversal is used to create a copy of the tree. Preorder traversal is also used to get prefix expression on an expression tree. Please see http://en.wikipedia.org/wiki/Polish_notation know why prefix expressions are useful.<br>\n",
    "Example: Preorder traversal for the above-given figure is 1 2 4 5 3."
   ]
  },
  {
   "cell_type": "code",
   "execution_count": 14,
   "id": "1b23d870",
   "metadata": {},
   "outputs": [],
   "source": [
    "# A function to do preorder tree traversal\n",
    "def printPreorder(root):\n",
    " \n",
    "    if root:\n",
    " \n",
    "        # First print the data of node\n",
    "        print(root.val)\n",
    " \n",
    "        # Then recur on left child\n",
    "        printPreorder(root.left)\n",
    " \n",
    "        # Finally recur on right child\n",
    "        printPreorder(root.right)"
   ]
  },
  {
   "cell_type": "markdown",
   "id": "e7167a6c",
   "metadata": {},
   "source": [
    "### Postorder Traversal\n",
    "Algorithm Postorder(tree)\n",
    "   1. Traverse the left subtree, i.e., call Postorder(left-subtree)\n",
    "   2. Traverse the right subtree, i.e., call Postorder(right-subtree)\n",
    "   3. Visit the root.\n",
    "   \n",
    "Postorder traversal is used to delete the tree.Postorder traversal is also useful to get the postfix expression of an expression tree. Please see http://en.wikipedia.org/wiki/Reverse_Polish_notation for the usage of postfix expression.\n",
    "\n",
    "Example: Postorder traversal for the above-given figure is 4 5 2 3 1."
   ]
  },
  {
   "cell_type": "code",
   "execution_count": 15,
   "id": "c61de46b",
   "metadata": {},
   "outputs": [],
   "source": [
    "# A function to do postorder tree traversal\n",
    "def printPostorder(root):\n",
    " \n",
    "    if root:\n",
    " \n",
    "        # First recur on left child\n",
    "        printPostorder(root.left)\n",
    " \n",
    "        # the recur on right child\n",
    "        printPostorder(root.right)\n",
    " \n",
    "        # now print the data of node\n",
    "        print(root.val)"
   ]
  },
  {
   "cell_type": "code",
   "execution_count": 17,
   "id": "a5017f66",
   "metadata": {},
   "outputs": [
    {
     "name": "stdout",
     "output_type": "stream",
     "text": [
      "\n",
      "Inorder traversal of binary tree is\n",
      "4\n",
      "2\n",
      "5\n",
      "1\n",
      "3\n",
      "Preorder traversal of binary tree is\n",
      "1\n",
      "2\n",
      "4\n",
      "5\n",
      "3\n",
      "\n",
      "Postorder traversal of binary tree is\n",
      "4\n",
      "5\n",
      "2\n",
      "3\n",
      "1\n"
     ]
    }
   ],
   "source": [
    "root = Node(1)\n",
    "root.left = Node(2)\n",
    "root.right = Node(3)\n",
    "root.left.left = Node(4)\n",
    "root.left.right = Node(5)\n",
    "\n",
    "print(\"\\nInorder traversal of binary tree is\")\n",
    "printInorder(root)\n",
    "\n",
    "print(\"Preorder traversal of binary tree is\")\n",
    "printPreorder(root)\n",
    "\n",
    "print(\"\\nPostorder traversal of binary tree is\")\n",
    "printPostorder(root)"
   ]
  },
  {
   "attachments": {
    "image.png": {
     "image/png": "[encoded data removed]"
    }
   },
   "cell_type": "markdown",
   "id": "46fd7ee0",
   "metadata": {},
   "source": [
    "## Level Order Binary Tree Traversal\n",
    "\n",
    "Level order traversal of a tree is breadth first traversal for the tree.\n",
    "\n",
    "![image.png](attachment:image.png)\n",
    "\n",
    "Level order traversal of the above tree is 1 2 3 4 5 "
   ]
  },
  {
   "cell_type": "markdown",
   "id": "4b9e7acc",
   "metadata": {},
   "source": [
    "### Method - 1 (Use function to print a current level)\n",
    "\n",
    "There are basically two functions in this method. One is to print all nodes at a given level (printCurrentLevel), and other is to print level order traversal of the tree (printLevelorder). printLevelorder makes use of printCurrentLevel to print nodes at all levels one by one starting from the root.\n",
    "\n",
    "<b>Time Complexity:</b> O(n^2) in worst case. For a skewed tree, printGivenLevel() takes O(n) time where n is the number of nodes in the skewed tree. So time complexity of printLevelOrder() is O(n) + O(n-1) + O(n-2) + .. + O(1) which is O(n^2). <br>\n",
    "<b>Space Complexity:</b> O(n) in worst case. For a skewed tree, printGivenLevel() uses O(n) space for call stack. For a Balanced tree, the call stack uses O(log n) space, (i.e., the height of the balanced tree)."
   ]
  },
  {
   "cell_type": "code",
   "execution_count": 1,
   "id": "cd8d44dd",
   "metadata": {},
   "outputs": [],
   "source": [
    "class Node:\n",
    "    def __init__(self, key):\n",
    "        self.data = key\n",
    "        self.left = None\n",
    "        self.right = None"
   ]
  },
  {
   "cell_type": "code",
   "execution_count": 2,
   "id": "fdf0cc4f",
   "metadata": {},
   "outputs": [],
   "source": [
    "# Function to print level order traversal of tree\n",
    "def printLevelOrder(root):\n",
    "    h = height(root)\n",
    "    for i in range(1, h+1):\n",
    "        printCurrentLevel(root, i)\n",
    "\n",
    "# print nodes at a current level\n",
    "def printCurrentLevel(root, level):\n",
    "    if root is None:\n",
    "        return\n",
    "    if level == 1: # Base Case\n",
    "        print(root.data, end=\" \")\n",
    "    elif level > 1:\n",
    "        printCurrentLevel(root.left, level-1)\n",
    "        printCurrentLevel(root.right, level-1)\n",
    "\n",
    "\"\"\" Compute the height of a tree--the number of nodes\n",
    "    along the longest path from the root node down to\n",
    "    the farthest leaf node\n",
    "\"\"\"\n",
    "def height(node):\n",
    "    if node is None:\n",
    "        return 0\n",
    "    else:\n",
    "        lheight = height(node.left)\n",
    "        rheight = height(node.right)\n",
    "        \n",
    "        if lheight > rheight:\n",
    "            return lheight + 1\n",
    "        else:\n",
    "            return rheight + 1"
   ]
  },
  {
   "cell_type": "code",
   "execution_count": 3,
   "id": "d59d5ff9",
   "metadata": {},
   "outputs": [
    {
     "name": "stdout",
     "output_type": "stream",
     "text": [
      "Level order traversal of binary tree is -\n",
      "1 2 3 4 5 "
     ]
    }
   ],
   "source": [
    "root = Node(1)\n",
    "root.left = Node(2)\n",
    "root.right = Node(3)\n",
    "root.left.left = Node(4)\n",
    "root.left.right = Node(5)\n",
    " \n",
    "print(\"Level order traversal of binary tree is -\")\n",
    "printLevelOrder(root)"
   ]
  },
  {
   "cell_type": "markdown",
   "id": "21777bc7",
   "metadata": {},
   "source": [
    "### Method - 2 (Using queue)\n",
    "\n",
    "printLevelorder(tree)\n",
    "1) Create an empty queue q <br>\n",
    "2) temp_node = root /*start from root*/ <br>\n",
    "3) Loop while temp_node is not NULL <br>\n",
    "    a) print temp_node->data. <br>\n",
    "    b) Enqueue temp_node’s children <br>\n",
    "      (first left then right children) to q <br>\n",
    "    c) Dequeue a node from q.\n",
    "    \n",
    "<b>Time Complexity:</b> O(n) where n is the number of nodes in the binary tree<br> \n",
    "<b>Space Complexity:</b> O(n) where n is the number of nodes in the binary tree "
   ]
  },
  {
   "cell_type": "code",
   "execution_count": 4,
   "id": "f55f1ef8",
   "metadata": {},
   "outputs": [],
   "source": [
    "class Node:\n",
    "    def __init__(self, key):\n",
    "        self.data = key\n",
    "        self.left = None\n",
    "        self.right = None"
   ]
  },
  {
   "cell_type": "code",
   "execution_count": 5,
   "id": "e21bdddc",
   "metadata": {},
   "outputs": [],
   "source": [
    "def printLevelOrder(root):\n",
    "    # tree is empty\n",
    "    if root is None:\n",
    "        return\n",
    "    \n",
    "    queue = []\n",
    "    queue.append(root)\n",
    "    \n",
    "    while len(queue) > 0:\n",
    "        print(queue[0].data)\n",
    "        node = queue.pop(0)\n",
    "        \n",
    "        if node.left is not None:\n",
    "            queue.append(node.left)\n",
    "        if node.right is not None:\n",
    "            queue.append(node.right)"
   ]
  },
  {
   "cell_type": "code",
   "execution_count": 6,
   "id": "a94de872",
   "metadata": {},
   "outputs": [
    {
     "name": "stdout",
     "output_type": "stream",
     "text": [
      "Level Order Traversal of binary tree is -\n",
      "1\n",
      "2\n",
      "3\n",
      "4\n",
      "5\n"
     ]
    }
   ],
   "source": [
    "root = Node(1)\n",
    "root.left = Node(2)\n",
    "root.right = Node(3)\n",
    "root.left.left = Node(4)\n",
    "root.left.right = Node(5)\n",
    " \n",
    "print(\"Level Order Traversal of binary tree is -\")\n",
    "printLevelOrder(root)"
   ]
  },
  {
   "cell_type": "code",
   "execution_count": null,
   "id": "eaaa4582",
   "metadata": {},
   "outputs": [],
   "source": []
  }
 ],
 "metadata": {
  "kernelspec": {
   "display_name": "Python 3",
   "language": "python",
   "name": "python3"
  },
  "language_info": {
   "codemirror_mode": {
    "name": "ipython",
    "version": 3
   },
   "file_extension": ".py",
   "mimetype": "text/x-python",
   "name": "python",
   "nbconvert_exporter": "python",
   "pygments_lexer": "ipython3",
   "version": "3.7.10"
  }
 },
 "nbformat": 4,
 "nbformat_minor": 5
}
