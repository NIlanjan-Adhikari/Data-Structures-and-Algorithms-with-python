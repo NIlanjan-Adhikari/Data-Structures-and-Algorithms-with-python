{
 "cells": [
  {
   "cell_type": "markdown",
   "id": "a6ebc6b0",
   "metadata": {},
   "source": [
    "# Stack\n",
    "\n",
    "Stack is a linear data structure which follows a particular order in which the operations are performed. The order may be LIFO(Last In First Out) or FILO(First In Last Out).\n",
    "\n",
    "https://www.geeksforgeeks.org/stack-data-structure/\n",
    "\n",
    "<b>The functions associated with stack are:</b><br>\n",
    "empty() – Returns whether the stack is empty – Time Complexity: O(1)<br>\n",
    "size() – Returns the size of the stack – Time Complexity: O(1)<br>\n",
    "top() – Returns a reference to the topmost element of the stack – Time<br> Complexity: O(1)<br>\n",
    "push(a) – Inserts the element ‘a’ at the top of the stack – Time Complexity: O(1)<br>\n",
    "pop() – Deletes the topmost element of the stack – Time Complexity: O(1)"
   ]
  },
  {
   "cell_type": "markdown",
   "id": "c4222129",
   "metadata": {},
   "source": [
    "# Implementation of Stacks"
   ]
  },
  {
   "cell_type": "markdown",
   "id": "022821ce",
   "metadata": {},
   "source": [
    "## Method - 1(Using Lists)\n",
    "Unfortunately, the list has a few shortcomings. The biggest issue is that it can run into speed issues as it grows. The items in the list are stored next to each other in memory, if the stack grows bigger than the block of memory that currently holds it, then Python needs to do some memory allocations. This can lead to some append() calls taking much longer than other ones."
   ]
  },
  {
   "cell_type": "code",
   "execution_count": 1,
   "id": "3dc4b856",
   "metadata": {},
   "outputs": [
    {
     "name": "stdout",
     "output_type": "stream",
     "text": [
      "Initial stack\n",
      "['a', 'b', 'c']\n",
      "\n",
      "Elements popped from stack:\n",
      "c\n",
      "b\n",
      "a\n",
      "\n",
      "Stack after elements are popped:\n",
      "[]\n"
     ]
    }
   ],
   "source": [
    "stack = []\n",
    "stack.append('a')\n",
    "stack.append('b')\n",
    "stack.append('c')\n",
    "\n",
    "print('Initial stack')\n",
    "print(stack)\n",
    "\n",
    "print('\\nElements popped from stack:')\n",
    "print(stack.pop())\n",
    "print(stack.pop())\n",
    "print(stack.pop())\n",
    " \n",
    "print('\\nStack after elements are popped:')\n",
    "print(stack)"
   ]
  },
  {
   "cell_type": "code",
   "execution_count": null,
   "id": "4f392017",
   "metadata": {},
   "outputs": [],
   "source": [
    "class Stack:\n",
    "    \n",
    "    def __init__(self):\n",
    "        self.items = []\n",
    "\n",
    "    def isEmpty(self):\n",
    "        return self.items == []\n",
    "\n",
    "    def push(self, item):\n",
    "        self.items.append(item)\n",
    "\n",
    "    def pop(self):\n",
    "        return self.items.pop()\n",
    "\n",
    "    def peek(self):\n",
    "        return self.items[len(self.items)-1]\n",
    "\n",
    "    def size(self):\n",
    "        return len(self.items)"
   ]
  },
  {
   "cell_type": "markdown",
   "id": "a8770a9e",
   "metadata": {},
   "source": [
    "## Method - 2 (Using Deque)\n",
    "Python stack can be implemented using the deque class from the collections module. Deque is preferred over the list in the cases where we need quicker append and pop operations from both the ends of the container, as deque provides an O(1) time complexity for append and pop operations as compared to list which provides O(n) time complexity. \n",
    "The same methods on deque as seen in the list are used, append() and pop()."
   ]
  },
  {
   "cell_type": "code",
   "execution_count": 2,
   "id": "4eee89d1",
   "metadata": {},
   "outputs": [
    {
     "name": "stdout",
     "output_type": "stream",
     "text": [
      "Initial stack:\n",
      "deque(['a', 'b', 'c'])\n",
      "\n",
      "Elements popped from stack:\n",
      "c\n",
      "b\n",
      "a\n",
      "\n",
      "Stack after elements are popped:\n",
      "deque([])\n"
     ]
    }
   ],
   "source": [
    "from collections import deque\n",
    " \n",
    "stack = deque()\n",
    " \n",
    "# append() function to push\n",
    "# element in the stack\n",
    "stack.append('a')\n",
    "stack.append('b')\n",
    "stack.append('c')\n",
    " \n",
    "print('Initial stack:')\n",
    "print(stack)\n",
    "\n",
    "# pop() function to pop\n",
    "# element from stack in\n",
    "# LIFO order\n",
    "print('\\nElements popped from stack:')\n",
    "print(stack.pop())\n",
    "print(stack.pop())\n",
    "print(stack.pop())\n",
    " \n",
    "print('\\nStack after elements are popped:')\n",
    "print(stack)"
   ]
  },
  {
   "cell_type": "markdown",
   "id": "50c5af7f",
   "metadata": {},
   "source": [
    "## Method - 3 (Using queue module)\n",
    "Queue module also has a LIFO Queue, which is basically a Stack. Data is inserted into Queue using the put() function and get() takes data out from the Queue.\n",
    "\n",
    "There are various functions available in this module: \n",
    "\n",
    "maxsize – Number of items allowed in the queue.<br>\n",
    "empty() – Return True if the queue is empty, False otherwise.<br>\n",
    "full() – Return True if there are maxsize items in the queue. If the queue was initialized with maxsize=0 (the default), then full() never returns True.<br>\n",
    "get() – Remove and return an item from the queue. If the queue is empty, wait until an item is available.<br>\n",
    "get_nowait() – Return an item if one is immediately available, else raise QueueEmpty.<br>\n",
    "put(item) – Put an item into the queue. If the queue is full, wait until a free slot is available before adding the item.<br>\n",
    "put_nowait(item) – Put an item into the queue without blocking.<br>\n",
    "qsize() – Return the number of items in the queue. If no free slot is immediately available, raise QueueFull.<br>"
   ]
  },
  {
   "cell_type": "code",
   "execution_count": 3,
   "id": "46a179c8",
   "metadata": {},
   "outputs": [
    {
     "name": "stdout",
     "output_type": "stream",
     "text": [
      "0\n",
      "Full:  True\n",
      "Size:  3\n",
      "\n",
      "Elements popped from the stack\n",
      "c\n",
      "b\n",
      "a\n",
      "\n",
      "Empty:  True\n"
     ]
    }
   ],
   "source": [
    "from queue import LifoQueue\n",
    " \n",
    "# Initializing a stack\n",
    "stack = LifoQueue(maxsize=3)\n",
    " \n",
    "# qsize() show the number of elements\n",
    "# in the stack\n",
    "print(stack.qsize())\n",
    " \n",
    "# put() function to push\n",
    "# element in the stack\n",
    "stack.put('a')\n",
    "stack.put('b')\n",
    "stack.put('c')\n",
    " \n",
    "print(\"Full: \", stack.full())\n",
    "print(\"Size: \", stack.qsize())\n",
    " \n",
    "# get() function to pop\n",
    "# element from stack in\n",
    "# LIFO order\n",
    "print('\\nElements popped from the stack')\n",
    "print(stack.get())\n",
    "print(stack.get())\n",
    "print(stack.get())\n",
    " \n",
    "print(\"\\nEmpty: \", stack.empty())"
   ]
  },
  {
   "cell_type": "markdown",
   "id": "797c19de",
   "metadata": {},
   "source": [
    "## Method - 4 (Using singly linked list)\n",
    "\n",
    "The linked list has two methods addHead(item) and removeHead() that run in constant time. These two methods are suitable to implement a stack. \n",
    "\n",
    "getSize()– Get the number of items in the stack.<br>\n",
    "isEmpty() – Return True if the stack is empty, False otherwise.<br>\n",
    "peek() – Return the top item in the stack. If the stack is empty, raise an exception.<br>\n",
    "push(value) – Push a value into the head of the stack.<br>\n",
    "pop() – Remove and return a value in the head of the stack. If the stack is empty, raise an exception."
   ]
  },
  {
   "cell_type": "code",
   "execution_count": 3,
   "id": "d793c109",
   "metadata": {},
   "outputs": [],
   "source": [
    "class Node:\n",
    "    def __init__(self, value):\n",
    "        self.value = value\n",
    "        self.next = None"
   ]
  },
  {
   "cell_type": "code",
   "execution_count": 4,
   "id": "76123131",
   "metadata": {},
   "outputs": [],
   "source": [
    "class Stack:\n",
    "    def __init__(self):\n",
    "        self.head = Node(\"head\")\n",
    "        self.size = 0\n",
    "    \n",
    "    # String representation of the stack\n",
    "    def __str__(self):\n",
    "        curr = self.head.next\n",
    "        out = \"\"\n",
    "        while curr:\n",
    "            out += str(curr.value) + \"->\"\n",
    "            curr = curr.next\n",
    "        return out[:-3]\n",
    "    \n",
    "    def getSize(self):\n",
    "        return self.size\n",
    "    \n",
    "    def isEmpty(self):\n",
    "        return self.size == 0\n",
    "    \n",
    "    # Get the top item of the stack\n",
    "    def peek(self):\n",
    "        if self.isEmpty():\n",
    "            raise Exception(\"Peeking from an empty stack\")\n",
    "        return self.head.next.value\n",
    "    \n",
    "    def push(self, value):\n",
    "        node = Node(value)\n",
    "        node.next = self.head.next\n",
    "        self.head.next = node\n",
    "        self.size += 1\n",
    "    \n",
    "    def pop(self):\n",
    "        if self.isEmpty():\n",
    "            raise Exception(\"Popping from an empty stack\")\n",
    "        remove = self.head.next\n",
    "        self.head.next = self.head.next.next\n",
    "        self.size -= 1\n",
    "        return remove.value"
   ]
  },
  {
   "cell_type": "code",
   "execution_count": 5,
   "id": "daace07e",
   "metadata": {},
   "outputs": [
    {
     "name": "stdout",
     "output_type": "stream",
     "text": [
      "Stack: 10->9->8->7->6->5->4->3->2->\n",
      "Pop: 10\n",
      "Pop: 9\n",
      "Pop: 8\n",
      "Pop: 7\n",
      "Pop: 6\n",
      "Stack: 5->4->3->2->\n"
     ]
    }
   ],
   "source": [
    "stack = Stack()\n",
    "for i in range(1, 11):\n",
    "    stack.push(i)\n",
    "print(f\"Stack: {stack}\")\n",
    "\n",
    "for _ in range(1, 6):\n",
    "    remove = stack.pop()\n",
    "    print(f\"Pop: {remove}\")\n",
    "print(f\"Stack: {stack}\")"
   ]
  },
  {
   "cell_type": "markdown",
   "id": "5aad319a",
   "metadata": {},
   "source": [
    "# Implement Stack using Queues\n",
    "https://www.geeksforgeeks.org/implement-stack-using-queue/"
   ]
  },
  {
   "cell_type": "markdown",
   "id": "5f63c495",
   "metadata": {},
   "source": [
    "## Method - 1 (By making push operation costly)\n",
    "This method makes sure that newly entered element is always at the front of ‘q1’, so that pop operation just dequeues from ‘q1’. ‘q2’ is used to put every new element at front of ‘q1’.\n",
    " \n",
    "\n",
    "1.push(s, x) operation’s step are described below: \n",
    "Enqueue x to q2<br>\n",
    "One by one dequeue everything from q1 and enqueue to q2.<br>\n",
    "Swap the names of q1 and q2<br>\n",
    "2.pop(s) operation’s function are described below:<br> \n",
    "Dequeue an item from q1 and return it."
   ]
  },
  {
   "cell_type": "code",
   "execution_count": null,
   "id": "28bd7d63",
   "metadata": {},
   "outputs": [],
   "source": [
    "from queue import Queue\n",
    "\n",
    "class Stack:\n",
    "    def __init__(self):\n",
    "        self.q1 = Queue()\n",
    "        self.q2 = Queue()\n",
    "        self.curr_size = 0\n",
    "    \n",
    "    def push(self, x):\n",
    "        pass"
   ]
  }
 ],
 "metadata": {
  "kernelspec": {
   "display_name": "Python 3",
   "language": "python",
   "name": "python3"
  },
  "language_info": {
   "codemirror_mode": {
    "name": "ipython",
    "version": 3
   },
   "file_extension": ".py",
   "mimetype": "text/x-python",
   "name": "python",
   "nbconvert_exporter": "python",
   "pygments_lexer": "ipython3",
   "version": "3.7.10"
  }
 },
 "nbformat": 4,
 "nbformat_minor": 5
}
