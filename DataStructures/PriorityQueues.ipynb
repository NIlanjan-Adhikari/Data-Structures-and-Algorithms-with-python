{
 "cells": [
  {
   "cell_type": "markdown",
   "id": "c451be67",
   "metadata": {},
   "source": [
    "# Priority Queue\n",
    "https://www.geeksforgeeks.org/priority-queue-set-1-introduction/\n",
    "\n",
    "Priority Queue is an extension of queue with following properties.<br>\n",
    "1.Every item has a priority associated with it.<br>\n",
    "2.An element with high priority is dequeued before an element with low priority.<br>\n",
    "3.If two elements have the same priority, they are served according to their order in the queue.\n",
    "\n",
    "<b>A typical priority queue supports following operations:--</b><br>\n",
    "insert(item, priority): Inserts an item with given priority.<br>\n",
    "getHighestPriority(): Returns the highest priority item.<br>\n",
    "deleteHighestPriority(): Removes the highest priority item."
   ]
  },
  {
   "cell_type": "markdown",
   "id": "e409a179",
   "metadata": {},
   "source": [
    "# Implementation\n",
    "Heap is generally preferred for priority queue implementation because heaps provide better performance compared arrays or linked list. In a Binary Heap, getHighestPriority() can be implemented in O(1) time, insert() can be implemented in O(Logn) time and deleteHighestPriority() can also be implemented in O(Logn) time.\n",
    "\n",
    "In Python, it is available using “heapq” module. The property of this data structure in Python is that each time the smallest of heap element is popped(min heap). Whenever elements are pushed or popped, heap structure in maintained. The heap[0] element also returns the smallest element each time.\n",
    "\n",
    "heapify(iterable) :- This function is used to convert the iterable into a heap data structure. i.e. in heap order.\n",
    "\n",
    "heappush(heap, ele) :- This function is used to insert the element mentioned in its arguments into heap. The order is adjusted, so as heap structure is maintained.\n",
    "\n",
    "heappop(heap) :- This function is used to remove and return the smallest element from heap. The order is adjusted, so as heap structure is maintained."
   ]
  },
  {
   "cell_type": "code",
   "execution_count": 1,
   "id": "f7781481",
   "metadata": {},
   "outputs": [
    {
     "name": "stdout",
     "output_type": "stream",
     "text": [
      "The created heap is : [1, 3, 9, 7, 5]\n",
      "The modified heap after push is : [1, 3, 4, 7, 5, 9]\n",
      "The popped and smallest element is : 1\n"
     ]
    }
   ],
   "source": [
    "# importing \"heapq\" to implement heap queue\n",
    "import heapq\n",
    "  \n",
    "# initializing list\n",
    "li = [5, 7, 9, 1, 3]\n",
    "  \n",
    "# using heapify to convert list into heap\n",
    "heapq.heapify(li)\n",
    "  \n",
    "# printing created heap\n",
    "print (\"The created heap is : \",end=\"\")\n",
    "print (list(li))\n",
    "  \n",
    "# using heappush() to push elements into heap\n",
    "# pushes 4\n",
    "heapq.heappush(li,4)\n",
    "  \n",
    "# printing modified heap\n",
    "print (\"The modified heap after push is : \",end=\"\")\n",
    "print (list(li))\n",
    "  \n",
    "# using heappop() to pop smallest element\n",
    "print (\"The popped and smallest element is : \",end=\"\")\n",
    "print (heapq.heappop(li))"
   ]
  },
  {
   "cell_type": "markdown",
   "id": "5be97121",
   "metadata": {},
   "source": [
    "heappushpop(heap, ele) :- This function combines the functioning of both push and pop operations in one statement, increasing efficiency. Heap order is maintained after this operation.\n",
    "\n",
    "heapreplace(heap, ele) :- This function also inserts and pops element in one statement, but it is different from above function. In this, element is first popped, then the element is pushed.i.e, the value larger than the pushed value can be returned. heapreplace() returns the smallest value originally in heap regardless of the pushed element as opposed to heappushpop()."
   ]
  },
  {
   "cell_type": "code",
   "execution_count": 2,
   "id": "cfc955a3",
   "metadata": {},
   "outputs": [
    {
     "name": "stdout",
     "output_type": "stream",
     "text": [
      "The popped item using heappushpop() is : 2\n",
      "The popped item using heapreplace() is : 3\n"
     ]
    }
   ],
   "source": [
    "# importing \"heapq\" to implement heap queue\n",
    "import heapq\n",
    "  \n",
    "# initializing list 1\n",
    "li1 = [5, 7, 9, 4, 3]\n",
    "  \n",
    "# initializing list 2\n",
    "li2 = [5, 7, 9, 4, 3]\n",
    "  \n",
    "# using heapify() to convert list into heap\n",
    "heapq.heapify(li1)\n",
    "heapq.heapify(li2)\n",
    "  \n",
    "# using heappushpop() to push and pop items simultaneously\n",
    "# pops 2\n",
    "print (\"The popped item using heappushpop() is : \",end=\"\")\n",
    "print (heapq.heappushpop(li1, 2))\n",
    "  \n",
    "# using heapreplace() to push and pop items simultaneously\n",
    "# pops 3\n",
    "print (\"The popped item using heapreplace() is : \",end=\"\")\n",
    "print (heapq.heapreplace(li2, 2))"
   ]
  },
  {
   "cell_type": "markdown",
   "id": "6c35546d",
   "metadata": {},
   "source": [
    "nlargest(k, iterable, key = fun) :- This function is used to return the k largest elements from the iterable specified and satisfying the key if mentioned.\n",
    "\n",
    "nsmallest(k, iterable, key = fun) :- This function is used to return the k smallest elements from the iterable specified and satisfying the key if mentioned."
   ]
  },
  {
   "cell_type": "code",
   "execution_count": 3,
   "id": "c3e3bd43",
   "metadata": {},
   "outputs": [
    {
     "name": "stdout",
     "output_type": "stream",
     "text": [
      "The 3 largest numbers in list are : [10, 9, 8]\n",
      "The 3 smallest numbers in list are : [1, 3, 4]\n"
     ]
    }
   ],
   "source": [
    "# importing \"heapq\" to implement heap queue\n",
    "import heapq\n",
    "  \n",
    "# initializing list \n",
    "li1 = [6, 7, 9, 4, 3, 5, 8, 10, 1]\n",
    "  \n",
    "# using heapify() to convert list into heap\n",
    "heapq.heapify(li1)\n",
    "  \n",
    "# using nlargest to print 3 largest numbers\n",
    "# prints 10, 9 and 8\n",
    "print(\"The 3 largest numbers in list are : \",end=\"\")\n",
    "print(heapq.nlargest(3, li1))\n",
    "  \n",
    "# using nsmallest to print 3 smallest numbers\n",
    "# prints 1, 3 and 4\n",
    "print(\"The 3 smallest numbers in list are : \",end=\"\")\n",
    "print(heapq.nsmallest(3, li1))"
   ]
  }
 ],
 "metadata": {
  "kernelspec": {
   "display_name": "Python 3",
   "language": "python",
   "name": "python3"
  },
  "language_info": {
   "codemirror_mode": {
    "name": "ipython",
    "version": 3
   },
   "file_extension": ".py",
   "mimetype": "text/x-python",
   "name": "python",
   "nbconvert_exporter": "python",
   "pygments_lexer": "ipython3",
   "version": "3.7.10"
  }
 },
 "nbformat": 4,
 "nbformat_minor": 5
}
