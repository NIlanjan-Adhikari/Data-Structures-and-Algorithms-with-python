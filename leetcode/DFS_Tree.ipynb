{
 "cells": [
  {
   "cell_type": "code",
   "execution_count": null,
   "id": "2022ec70",
   "metadata": {},
   "outputs": [],
   "source": [
    "# Definition for a binary tree node.\n",
    "# class TreeNode:\n",
    "#     def __init__(self, val=0, left=None, right=None):\n",
    "#         self.val = val\n",
    "#         self.left = left\n",
    "#         self.right = right\n",
    "\n",
    "class Solution:\n",
    "    def traversal(self, root, postorder):\n",
    "        if root:\n",
    "            self.traversal(root.left, postorder)\n",
    "            self.traversal(root.right, postorder)\n",
    "            postorder.append(root.val)\n",
    "            \n",
    "    def postorderTraversal(self, root: Optional[TreeNode]) -> List[int]:\n",
    "        postorder = []\n",
    "        self.traversal(root, postorder)\n",
    "        return postorder"
   ]
  },
  {
   "cell_type": "code",
   "execution_count": null,
   "id": "7c9dd6c6",
   "metadata": {},
   "outputs": [],
   "source": [
    "# Definition for a binary tree node.\n",
    "# class TreeNode:\n",
    "#     def __init__(self, val=0, left=None, right=None):\n",
    "#         self.val = val\n",
    "#         self.left = left\n",
    "#         self.right = right\n",
    "\n",
    "class Solution:\n",
    "    def postorderTraversal(self, root: Optional[TreeNode]) -> List[int]:\n",
    "        postorder = []\n",
    "        stack = [root]\n",
    "        visited = set()\n",
    "        while stack:\n",
    "            root = stack[-1]\n",
    "            if root:\n",
    "                if root not in visited:\n",
    "                    visited.add(root)\n",
    "                    stack.append(root.left)\n",
    "                elif root.right and root.right not in visited:\n",
    "                    stack.append(root.right)\n",
    "                else:\n",
    "                    root = stack.pop()\n",
    "                    postorder.append(root.val)                    \n",
    "            else:\n",
    "                stack.pop()\n",
    "                \n",
    "        return postorder"
   ]
  }
 ],
 "metadata": {
  "kernelspec": {
   "display_name": "Python 3",
   "language": "python",
   "name": "python3"
  },
  "language_info": {
   "codemirror_mode": {
    "name": "ipython",
    "version": 3
   },
   "file_extension": ".py",
   "mimetype": "text/x-python",
   "name": "python",
   "nbconvert_exporter": "python",
   "pygments_lexer": "ipython3",
   "version": "3.7.10"
  }
 },
 "nbformat": 4,
 "nbformat_minor": 5
}
