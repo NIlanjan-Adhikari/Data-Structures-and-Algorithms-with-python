{
 "cells": [
  {
   "cell_type": "code",
   "execution_count": null,
   "id": "d0f37ca4",
   "metadata": {},
   "outputs": [],
   "source": [
    "# Why Merge Sort divides input array in two halves, why not in three or more parts?"
   ]
  },
  {
   "cell_type": "markdown",
   "id": "613977a8",
   "metadata": {},
   "source": [
    "# Sorting Algorithms"
   ]
  },
  {
   "cell_type": "markdown",
   "id": "9df9a1f7",
   "metadata": {},
   "source": [
    "## Selection Sort\n",
    "https://www.geeksforgeeks.org/selection-sort/\n",
    "\n",
    "The selection sort algorithm sorts an array by repeatedly finding the minimum element (considering ascending order) from unsorted part and putting it at the beginning. The algorithm maintains two subarrays in a given array.\n",
    "1) The subarray which is already sorted.<br> \n",
    "2) Remaining subarray which is unsorted.<br>\n",
    "In every iteration of selection sort, the minimum element (considering ascending order) from the unsorted subarray is picked and moved to the sorted subarray.\n",
    "\n",
    "Time Complexity: O(n2) as there are two nested loops.<br>\n",
    "Auxiliary Space: O(1) <br>\n",
    "The good thing about selection sort is it never makes more than O(n) swaps and can be useful when memory write is a costly operation. "
   ]
  },
  {
   "cell_type": "code",
   "execution_count": 1,
   "id": "538e1c6e",
   "metadata": {},
   "outputs": [],
   "source": [
    "def selectionSort(arr):\n",
    "    n = len(arr)\n",
    "    for i in range(n):\n",
    "        min_idx = i\n",
    "        for j in range(i+1, n):\n",
    "            if arr[min_idx] > arr[j]:\n",
    "                min_idx = j\n",
    "        \n",
    "        arr[i], arr[min_idx] = arr[min_idx], arr[i]\n",
    "    \n",
    "    return arr"
   ]
  },
  {
   "cell_type": "code",
   "execution_count": 2,
   "id": "1db4c6af",
   "metadata": {},
   "outputs": [
    {
     "name": "stdout",
     "output_type": "stream",
     "text": [
      "Original array: [64, 25, 12, 22, 11]\n",
      "Sorted array : [11, 12, 22, 25, 64]\n"
     ]
    }
   ],
   "source": [
    "arr = [64, 25, 12, 22, 11]\n",
    "print(f\"Original array: {arr}\")\n",
    "sorted_arr = selectionSort(arr)\n",
    "print(f\"Sorted array : {sorted_arr}\")"
   ]
  },
  {
   "cell_type": "markdown",
   "id": "5aea7f7e",
   "metadata": {},
   "source": [
    "## Bubble Sort\n",
    "\n",
    "Bubble Sort is the simplest sorting algorithm that works by repeatedly swapping the adjacent elements if they are in wrong order.\n",
    "\n",
    "Worst and Average Case Time Complexity: O(n*n). Worst case occurs when array is reverse sorted.<br>\n",
    "Best Case Time Complexity: O(n). Best case occurs when array is already sorted.<br>\n",
    "Auxiliary Space: O(1)<br>\n",
    "Boundary Cases: Bubble sort takes minimum time (Order of n) when elements are already sorted.<br>\n",
    "Sorting In Place: Yes<br>\n",
    "Stable: Yes<br>\n",
    "Due to its simplicity, bubble sort is often used to introduce the concept of a sorting algorithm.<br> \n",
    "In computer graphics it is popular for its capability to detect a very small error (like swap of just two elements) in almost-sorted arrays and fix it with just linear complexity (2n). For example, it is used in a polygon filling algorithm, where bounding lines are sorted by their x coordinate at a specific scan line (a line parallel to x axis) and with incrementing y their order changes (two elements are swapped) only at intersections of two lines"
   ]
  },
  {
   "cell_type": "code",
   "execution_count": 4,
   "id": "2a8b8c42",
   "metadata": {},
   "outputs": [],
   "source": [
    "def bubbleSort(arr):\n",
    "    n = len(arr)\n",
    "    for i in range(n):\n",
    "        for j in range(0, n-i-1):\n",
    "            # traverse the array from 0 to n-i-1\n",
    "            # Swap if the element found is greater\n",
    "            # than the next element\n",
    "            if arr[j] > arr[j+1]:\n",
    "                arr[j], arr[j+1] = arr[j+1], arr[j]\n",
    "    return arr"
   ]
  },
  {
   "cell_type": "code",
   "execution_count": 5,
   "id": "c1179742",
   "metadata": {},
   "outputs": [
    {
     "name": "stdout",
     "output_type": "stream",
     "text": [
      "Original array: [64, 34, 25, 12, 22, 11, 90]\n",
      "Sorted array : [11, 12, 22, 25, 34, 64, 90]\n"
     ]
    }
   ],
   "source": [
    "arr = [64, 34, 25, 12, 22, 11, 90]\n",
    "print(f\"Original array: {arr}\")\n",
    "sorted_arr = bubbleSort(arr)\n",
    "print(f\"Sorted array : {sorted_arr}\")"
   ]
  },
  {
   "cell_type": "markdown",
   "id": "901edf45",
   "metadata": {},
   "source": [
    "### Optimized Implementation\n",
    "\n",
    "The above function always runs O(n^2) time even if the array is sorted. It can be optimized by stopping the algorithm if inner loop didn’t cause any swap. "
   ]
  },
  {
   "cell_type": "code",
   "execution_count": 8,
   "id": "fb709110",
   "metadata": {},
   "outputs": [],
   "source": [
    "def bubbleSort(arr):\n",
    "    n = len(arr)\n",
    "    for i in range(n):\n",
    "        swapped = False\n",
    "        for j in range(0, n-i-1):\n",
    "            # traverse the array from 0 to\n",
    "            # n-i-1. Swap if the element\n",
    "            # found is greater than the\n",
    "            # next element\n",
    "            if arr[j] > arr[j+1]:\n",
    "                arr[j], arr[j+1] = arr[j+1], arr[j]\n",
    "                swapped = True\n",
    "        # IF no two elements were swapped\n",
    "        # by inner loop, then break\n",
    "        if swapped == False:\n",
    "            break\n",
    "    \n",
    "    return arr"
   ]
  },
  {
   "cell_type": "code",
   "execution_count": 9,
   "id": "270ed6a5",
   "metadata": {},
   "outputs": [
    {
     "name": "stdout",
     "output_type": "stream",
     "text": [
      "Original array: [64, 34, 25, 12, 22, 11, 90]\n",
      "Sorted array : [11, 12, 22, 25, 34, 64, 90]\n"
     ]
    }
   ],
   "source": [
    "arr = [64, 34, 25, 12, 22, 11, 90]\n",
    "print(f\"Original array: {arr}\")\n",
    "sorted_arr = bubbleSort(arr)\n",
    "print(f\"Sorted array : {sorted_arr}\")\n",
    "\n",
    "# Try recursive approach as well\n",
    "# https://www.geeksforgeeks.org/recursive-bubble-sort/"
   ]
  },
  {
   "cell_type": "markdown",
   "id": "cabcaed2",
   "metadata": {},
   "source": [
    "## Insertion Sort\n",
    "\n",
    "Insertion sort is a simple sorting algorithm that works similar to the way you sort playing cards in your hands. The array is virtually split into a sorted and an unsorted part. Values from the unsorted part are picked and placed at the correct position in the sorted part.\n",
    "\n",
    "<b>Algorithm</b><br> \n",
    "To sort an array of size n in ascending order:<br> \n",
    "1. Iterate from arr[1] to arr[n] over the array. \n",
    "2. Compare the current element (key) to its predecessor. \n",
    "3. If the key element is smaller than its predecessor, compare it to the elements before. Move the greater elements one position up to make space for the swapped element.\n",
    "\n",
    "Time Complexity: O(n^2) <br>\n",
    "Auxiliary Space: O(1)<br>\n",
    "Boundary Cases: Insertion sort takes maximum time to sort if elements are sorted in reverse order. And it takes minimum time (Order of n) when elements are already sorted.<br>\n",
    "Algorithmic Paradigm: Incremental Approach<br>\n",
    "Sorting In Place: Yes<br>\n",
    "Stable: Yes<br>\n",
    "Online: Yes<br>\n",
    "Uses: Insertion sort is used when number of elements is small. It can also be useful when input array is almost sorted, only few elements are misplaced in complete big array.<br>\n",
    "\n",
    "<b>What is Binary Insertion Sort?</b>\n",
    "We can use binary search to reduce the number of comparisons in normal insertion sort. Binary Insertion Sort uses binary search to find the proper location to insert the selected item at each iteration. In normal insertion, sorting takes O(i) (at ith iteration) in worst case. We can reduce it to O(logi) by using binary search. The algorithm, as a whole, still has a running worst case running time of O(n^2) because of the series of swaps required for each insertion.\n",
    "\n",
    "https://www.geeksforgeeks.org/binary-insertion-sort/\n",
    "\n",
    "https://www.geeksforgeeks.org/insertion-sort-for-singly-linked-list/"
   ]
  },
  {
   "cell_type": "code",
   "execution_count": 10,
   "id": "bed6414b",
   "metadata": {},
   "outputs": [],
   "source": [
    "def insertionSort(arr):\n",
    "    for i in range(1, len(arr)):\n",
    "        key = arr[i]\n",
    "        # Move elements of arr[0..i-1], that are\n",
    "        # greater than key, to one position ahead\n",
    "        # of their current position\n",
    "        j = i-1\n",
    "        while j >= 0 and key < arr[j]:\n",
    "            arr[j+1] = arr[j]\n",
    "            j -= 1\n",
    "        arr[j+1] = key\n",
    "    return arr"
   ]
  },
  {
   "cell_type": "code",
   "execution_count": 11,
   "id": "05fa474b",
   "metadata": {},
   "outputs": [
    {
     "name": "stdout",
     "output_type": "stream",
     "text": [
      "Original array: [64, 34, 25, 12, 22, 11, 90]\n",
      "Sorted array : [11, 12, 22, 25, 34, 64, 90]\n"
     ]
    }
   ],
   "source": [
    "arr = [64, 34, 25, 12, 22, 11, 90]\n",
    "print(f\"Original array: {arr}\")\n",
    "sorted_arr = insertionSort(arr)\n",
    "print(f\"Sorted array : {sorted_arr}\")"
   ]
  },
  {
   "cell_type": "markdown",
   "id": "0edae920",
   "metadata": {},
   "source": [
    " ## Merge Sort\n",
    " \n",
    "Merge Sort is a Divide and Conquer algorithm. It divides the input array into two halves, calls itself for the two halves, and then merges the two sorted halves. The merge() function is used for merging two halves. The merge(arr, l, m, r) is a key process that assumes that arr[l..m] and arr[m+1..r] are sorted and merges the two sorted sub-arrays into one. \n",
    "\n",
    "MergeSort(arr[], l,  r)\n",
    "If r > l\n",
    "     1. Find the middle point to divide the array into two halves:  \n",
    "             middle m = l+ (r-l)/2\n",
    "     2. Call mergeSort for first half:   \n",
    "             Call mergeSort(arr, l, m)\n",
    "     3. Call mergeSort for second half:\n",
    "             Call mergeSort(arr, m+1, r)\n",
    "     4. Merge the two halves sorted in step 2 and 3:\n",
    "             Call merge(arr, l, m, r)\n",
    "             \n"
   ]
  },
  {
   "cell_type": "code",
   "execution_count": null,
   "id": "9a8785fa",
   "metadata": {},
   "outputs": [],
   "source": []
  }
 ],
 "metadata": {
  "kernelspec": {
   "display_name": "Python 3",
   "language": "python",
   "name": "python3"
  },
  "language_info": {
   "codemirror_mode": {
    "name": "ipython",
    "version": 3
   },
   "file_extension": ".py",
   "mimetype": "text/x-python",
   "name": "python",
   "nbconvert_exporter": "python",
   "pygments_lexer": "ipython3",
   "version": "3.7.10"
  }
 },
 "nbformat": 4,
 "nbformat_minor": 5
}
