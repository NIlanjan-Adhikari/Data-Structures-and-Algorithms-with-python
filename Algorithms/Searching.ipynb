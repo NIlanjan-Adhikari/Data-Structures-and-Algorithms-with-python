{
  "cells": [
    {
      "cell_type": "markdown",
      "id": "cd566de8",
      "metadata": {
        "id": "cd566de8"
      },
      "source": [
        "# Searching Algorithms\n",
        "\n",
        "Searching Algorithms are designed to check for an element or retrieve an element from any data structure where it is stored. Based on the type of search operation, these algorithms are generally classified into two categories:\n",
        "\n",
        "1. <b>Sequential Search:</b> In this, the list or array is traversed sequentially and every element is checked. For example: Linear Search.\n",
        "2. <b>Interval Search:</b> These algorithms are specifically designed for searching in sorted data-structures. These type of searching algorithms are much more efficient than Linear Search as they repeatedly target the center of the search structure and divide the search space in half. For Example: Binary Search.\n",
        "\n",
        "Linear Search to find the element “20” in a given list of numbers<br>\n",
        "<img src=\"https://media.geeksforgeeks.org/wp-content/cdn-uploads/Linear-Search.png\" width=500><br>\n",
        "Binary Search to find the element “23” in a given list of numbers<br>\n",
        "<img src=\"https://www.geeksforgeeks.org/wp-content/uploads/Binary-Search.png\" width=500>"
      ]
    },
    {
      "cell_type": "markdown",
      "id": "9de32a34",
      "metadata": {
        "id": "9de32a34"
      },
      "source": [
        "## Linear Search\n",
        "\n",
        "Problem: Given an array arr[] of n elements, write a function to search a given element x in arr[].\n",
        "\n",
        "Input : arr[] = {10, 20, 80, 30, 60, 50, \n",
        "                     110, 100, 130, 170}<br>\n",
        "          x = 110;<br>\n",
        "Output : 6<br>\n",
        "Element x is present at index 6<br>\n",
        "\n",
        "Input : arr[] = {10, 20, 80, 30, 60, 50, \n",
        "                     110, 100, 130, 170}<br>\n",
        "           x = 175;<br>\n",
        "Output : -1<br>\n",
        "Element x is not present in arr[].\n",
        "\n",
        "A simple approach is to do a linear search, i.e  \n",
        "\n",
        "1. Start from the leftmost element of arr[] and one by one compare x with each element of arr[]\n",
        "2. If x matches with an element, return the index.\n",
        "3. If x doesn’t match with any of elements, return -1.\n",
        "\n",
        "The time complexity of the above algorithm is O(n). \n",
        "\n",
        "Linear search is rarely used practically because other search algorithms such as the binary search algorithm and hash tables allow significantly faster-searching comparison to Linear search."
      ]
    },
    {
      "cell_type": "code",
      "execution_count": null,
      "id": "c87a0a8f",
      "metadata": {
        "id": "c87a0a8f"
      },
      "outputs": [],
      "source": [
        "def search(arr,n,x):\n",
        "    for i in range(0,n):\n",
        "        if arr[i] == x:\n",
        "            return i\n",
        "    return -1"
      ]
    },
    {
      "cell_type": "code",
      "execution_count": null,
      "id": "590ed5d4",
      "metadata": {
        "id": "590ed5d4",
        "outputId": "ecf96860-92da-44bc-ef7e-b498330515a8"
      },
      "outputs": [
        {
          "name": "stdout",
          "output_type": "stream",
          "text": [
            "Element is present at index 3\n"
          ]
        }
      ],
      "source": [
        "arr = [2, 3, 4, 10, 40]\n",
        "x = 10\n",
        "n = len(arr)\n",
        " \n",
        "# Function call\n",
        "result = search(arr, n, x)\n",
        "if(result == -1):\n",
        "    print(\"Element is not present in array\")\n",
        "else:\n",
        "    print(\"Element is present at index\", result)"
      ]
    },
    {
      "cell_type": "markdown",
      "id": "85054f1b",
      "metadata": {
        "id": "85054f1b"
      },
      "source": [
        "## Improve Linear Search Worst-Case Complexity\n",
        "\n",
        "1. if element Found at last  O(n) to O(1)\n",
        "2. It is the same as previous method because here we are performing 2 ‘if’ operations in one iteration of the loop and in previous method we performed only 1 ‘if’ operation. This makes both the time complexities same."
      ]
    },
    {
      "cell_type": "code",
      "execution_count": null,
      "id": "d7f195aa",
      "metadata": {
        "id": "d7f195aa"
      },
      "outputs": [],
      "source": [
        "def search(arr, search_Element):\n",
        "    left = 0\n",
        "    length = len(arr)\n",
        "    position = -1\n",
        "    right = length - 1\n",
        "    \n",
        "    for left in range(0, right, 1):\n",
        "        # If search_element is found with\n",
        "        # left variable\n",
        "        if arr[left] == search_Element:\n",
        "            position = left\n",
        "            print(\"Element found in Array at \", position +\n",
        "                  1, \" Position with \", left + 1, \" Attempt\")\n",
        "            break\n",
        "        # If search_element is found with\n",
        "        # right variable\n",
        "        if arr[right] == search_Element:\n",
        "            position = right\n",
        "            print(\"Element found in Array at \", position + 1,\n",
        "                  \" Position with \", length - right, \" Attempt\")\n",
        "            break\n",
        "        left+=1\n",
        "        right-=1\n",
        "    \n",
        "    if position == -1:\n",
        "        print(\"Not found in Array with \", left, \" Attempt\")"
      ]
    },
    {
      "cell_type": "code",
      "execution_count": null,
      "id": "eff30298",
      "metadata": {
        "id": "eff30298",
        "outputId": "944825fa-703e-45a0-d324-db425fa96166"
      },
      "outputs": [
        {
          "name": "stdout",
          "output_type": "stream",
          "text": [
            "Element found in Array at  5  Position with  1  Attempt\n"
          ]
        }
      ],
      "source": [
        "arr = [1, 2, 3, 4, 5]\n",
        "search_element = 5\n",
        " \n",
        "# Function call\n",
        "search(arr, search_element)"
      ]
    },
    {
      "cell_type": "markdown",
      "id": "15295df1",
      "metadata": {
        "id": "15295df1"
      },
      "source": [
        "## Binary Search\n",
        "\n",
        "Given a <b>sorted array</b> arr[] of n elements, write a function to search a given element x in arr[].\n",
        "\n",
        "The idea of binary search is to use the information that the array is sorted and reduce the time complexity to O(Log n). <br>\n",
        "We basically ignore half of the elements just after one comparison.<br>\n",
        "1. Compare x with the middle element.\n",
        "2. If x matches with the middle element, we return the mid index.\n",
        "3. Else If x is greater than the mid element, then x can only lie in the right half subarray after the mid element. So we recur for the right half.\n",
        "4. Else (x is smaller) recur for the left half.\n",
        "\n",
        "<b>Time Complexity:</b><br>\n",
        "T(n) = T(n/2) + c <br>\n",
        "solution : theta(logn)\n",
        "\n",
        "<b>Auxiliary Space:</b> O(1) in case of iterative implementation. In the case of recursive implementation, O(Logn) recursion call stack space."
      ]
    },
    {
      "cell_type": "markdown",
      "id": "6d92eaa0",
      "metadata": {
        "id": "6d92eaa0"
      },
      "source": [
        "### Recursive approach"
      ]
    },
    {
      "cell_type": "code",
      "execution_count": null,
      "id": "c0390484",
      "metadata": {
        "id": "c0390484"
      },
      "outputs": [],
      "source": [
        "def binarySearch(arr, l, r, x):\n",
        "    #check base case\n",
        "    if r >= l:\n",
        "        mid = l + (r-l)//2\n",
        "        # If element is present at the middle itself\n",
        "        if arr[mid] == x:\n",
        "            return mid\n",
        "        # If element is smaller than mid, then it\n",
        "        # can only be present in left subarray\n",
        "        elif arr[mid] > x:\n",
        "            return binarySearch(arr, l, mid-1, x)\n",
        "        # Else the element can only be present\n",
        "        # in right subarray\n",
        "        else:\n",
        "            return binarySearch(arr, mid+1, r, x)\n",
        "    else:\n",
        "        return -1"
      ]
    },
    {
      "cell_type": "code",
      "execution_count": null,
      "id": "cd6224b8",
      "metadata": {
        "id": "cd6224b8",
        "outputId": "4b6e9fbc-c1bb-4a6f-f06e-12f1ed5eb4b1"
      },
      "outputs": [
        {
          "name": "stdout",
          "output_type": "stream",
          "text": [
            "Element is present at index  3\n"
          ]
        }
      ],
      "source": [
        "arr = [2, 3, 4, 10, 40]\n",
        "x = 10\n",
        " \n",
        "# Function call\n",
        "result = binarySearch(arr, 0, len(arr)-1, x)\n",
        " \n",
        "if result != -1:\n",
        "    print(\"Element is present at index % d\" % result)\n",
        "else:\n",
        "    print(\"Element is not present in array\")"
      ]
    },
    {
      "cell_type": "markdown",
      "id": "89a44e08",
      "metadata": {
        "id": "89a44e08"
      },
      "source": [
        "### Iterative approach"
      ]
    },
    {
      "cell_type": "code",
      "execution_count": null,
      "id": "abc3ed2a",
      "metadata": {
        "id": "abc3ed2a"
      },
      "outputs": [],
      "source": [
        "def binarySearch(arr, l, r, x):\n",
        "    while l<=r:\n",
        "        mid = l + (r-l)//2\n",
        "        if arr[mid] == x:\n",
        "            return mid\n",
        "        elif arr[mid] < x:\n",
        "            l = mid + 1\n",
        "        else:\n",
        "            r = mid - 1\n",
        "    return -1"
      ]
    },
    {
      "cell_type": "code",
      "execution_count": null,
      "id": "889d18df",
      "metadata": {
        "id": "889d18df",
        "outputId": "c55d2a7f-9e93-4889-81cd-5a44757e4e9c"
      },
      "outputs": [
        {
          "name": "stdout",
          "output_type": "stream",
          "text": [
            "Element is present at index  3\n"
          ]
        }
      ],
      "source": [
        "arr = [ 2, 3, 4, 10, 40 ]\n",
        "x = 10\n",
        " \n",
        "# Function call\n",
        "result = binarySearch(arr, 0, len(arr)-1, x)\n",
        " \n",
        "if result != -1:\n",
        "    print (\"Element is present at index % d\" % result)\n",
        "else:\n",
        "    print (\"Element is not present in array\")"
      ]
    },
    {
      "cell_type": "markdown",
      "id": "c54a3958",
      "metadata": {
        "id": "c54a3958"
      },
      "source": [
        "## Bitwise binary search\n",
        "\n",
        "<b>Idea:</b><br>\n",
        "Every number can be represented as a sum of the powers of the number 2.\n",
        "\n",
        "Exemples:\n",
        "\n",
        "76 = 64 + 8 + 4<br>\n",
        "10 = 8  + 2<br>\n",
        "7 = 4 + 2 + 1<br>\n",
        "\n",
        "<b>Approach:</b>\n",
        "Compute the first power of 2 that is greater or equal then the size of the array.Initialize an index as 0.\n",
        "Loop while the computed power is greater than 0 and each time divide it by 2.\n",
        "Each time the element at position [index + power] <= target we add to the index variable the respective power value. (Build the sum)\n",
        "After the for loops check if the element at position [index] == target. If so the target element is present in the array, else not."
      ]
    },
    {
      "cell_type": "code",
      "execution_count": null,
      "id": "d75a3353",
      "metadata": {
        "id": "d75a3353"
      },
      "outputs": [],
      "source": [
        "def binary_search(arr, size, target):\n",
        "    index = 0\n",
        "    power = 1\n",
        "    # Compute the first power of 2 that is >= size\n",
        "    while power < size:\n",
        "        power = power<<1\n",
        "    # loop while(power > 0)\n",
        "    # and divide power by two each iteration\n",
        "    while power > 0:\n",
        "        # if the next condition is true\n",
        "        # it means that the power value can contribute to the \"sum\"(a closer index where target might be)\n",
        "        if ((index+power < size) and (arr[index + power] <= target)):\n",
        "            index += power\n",
        "        power = power>>1\n",
        "    #  if the element at position [index] == target,\n",
        "    #  the target value is present in the array\n",
        "    if arr[index] == target:\n",
        "        return index\n",
        "    # else the value is not present in the array\n",
        "    return -1"
      ]
    },
    {
      "cell_type": "code",
      "execution_count": null,
      "id": "ad1a8f65",
      "metadata": {
        "id": "ad1a8f65",
        "outputId": "f93467b3-a2be-4737-c325-bbaa52f63f77"
      },
      "outputs": [
        {
          "name": "stdout",
          "output_type": "stream",
          "text": [
            "3\n"
          ]
        }
      ],
      "source": [
        "arr = [1, 3, 5, 7, 8]\n",
        "x = 7\n",
        "answer = binary_search(arr, len(arr), x)\n",
        "print(answer)\n",
        "# if answer == -1:\n",
        "#     print(\"Element not found\")\n",
        "# else:\n",
        "#     print(\"Element found at position\", answer)"
      ]
    },
    {
      "cell_type": "markdown",
      "id": "ab026933",
      "metadata": {
        "id": "ab026933"
      },
      "source": [
        "## Jump Search\n",
        "\n",
        "Like Binary Search, Jump Search is a searching algorithm for sorted arrays. The basic idea is to check fewer elements (than linear search) by jumping ahead by fixed steps or skipping some elements in place of searching all elements.<br>\n",
        "For example, suppose we have an array arr[] of size n and block (to be jumped) size m. Then we search at the indexes arr[0], arr[m], arr[2m]…..arr[km] and so on. Once we find the interval (arr[km] < x < arr[(k+1)m]), we perform a linear search operation from the index km to find the element x.<br>\n",
        "Let’s consider the following array: (0, 1, 1, 2, 3, 5, 8, 13, 21, 34, 55, 89, 144, 233, 377, 610). Length of the array is 16. Jump search will find the value of 55 with the following steps assuming that the block size to be jumped is 4.<br> \n",
        "STEP 1: Jump from index 0 to index 4;<br> \n",
        "STEP 2: Jump from index 4 to index 8;<br> \n",
        "STEP 3: Jump from index 8 to index 12;<br> \n",
        "STEP 4: Since the element at index 12 is greater than 55 we will jump back a step to come to index 8.<br> \n",
        "STEP 5: Perform linear search from index 8 to get the element 55.\n",
        "\n",
        "<b>What is the optimal block size to be skipped?</b><br>\n",
        "In the worst case, we have to do n/m jumps and if the last checked value is greater than the element to be searched for, we perform m-1 comparisons more for linear search. Therefore the total number of comparisons in the worst case will be ((n/m) + m-1). The value of the function ((n/m) + m-1) will be minimum when m = √n. Therefore, the best step size is m = √n.\n",
        "\n",
        "Time Complexity : O(√n)<br> \n",
        "Auxiliary Space : O(1)\n",
        "\n",
        "<b>Important points:</b>\n",
        "1. Works only sorted arrays.\n",
        "2. The optimal size of a block to be jumped is (√ n). This makes the time complexity of Jump Search O(√ n).\n",
        "3. The time complexity of Jump Search is between Linear Search ( ( O(n) ) and Binary Search ( O (Log n) ).\n",
        "4. Binary Search is better than Jump Search, but Jump search has an advantage that we traverse back only once (Binary Search may require up to O(Log n) jumps, consider a situation where the element to be searched is the smallest element or just bigger than the smallest). So in a system where binary search is costly, we use Jump Search."
      ]
    },
    {
      "cell_type": "code",
      "execution_count": null,
      "id": "a7ffd1de",
      "metadata": {
        "id": "a7ffd1de"
      },
      "outputs": [],
      "source": [
        "import math\n",
        "\n",
        "def jumpSearch(arr, x, n):\n",
        "    # Finding block size to be jumped\n",
        "    step = math.sqrt(n)\n",
        "    # Finding the block where element is\n",
        "    # present (if it is present)\n",
        "    prev = 0\n",
        "    while arr[int(min(step, n) - 1)] < x:\n",
        "        prev = step\n",
        "        step += math.sqrt(n)\n",
        "        if prev >= n:\n",
        "            return -1\n",
        "    \n",
        "    # Doing a linear search for x in\n",
        "    # block beginning with prev.\n",
        "    while arr[int(prev)] < x:\n",
        "        prev += 1\n",
        "        # If we reached next block or end\n",
        "        # of array, element is not present\n",
        "        if prev == min(step,n):\n",
        "            return -1 \n",
        "    # If element is found\n",
        "    if arr[int(prev)] == x:\n",
        "        return prev\n",
        "    \n",
        "    return -1"
      ]
    },
    {
      "cell_type": "code",
      "execution_count": null,
      "id": "2b964f6d",
      "metadata": {
        "id": "2b964f6d",
        "outputId": "7f45d31e-5190-4091-d9e9-0184d001a862"
      },
      "outputs": [
        {
          "name": "stdout",
          "output_type": "stream",
          "text": [
            "Number 55 is at index 10\n"
          ]
        }
      ],
      "source": [
        "arr = [ 0, 1, 1, 2, 3, 5, 8, 13, 21,\n",
        "    34, 55, 89, 144, 233, 377, 610 ]\n",
        "x = 55\n",
        "n = len(arr)\n",
        " \n",
        "# Find the index of 'x' using Jump Search\n",
        "index = jumpSearch(arr, x, n)\n",
        " \n",
        "# Print the index where 'x' is located\n",
        "print(\"Number\" , x, \"is at index\" ,\"%.0f\"%index)"
      ]
    },
    {
      "cell_type": "markdown",
      "id": "39614748",
      "metadata": {
        "id": "39614748"
      },
      "source": [
        "## Interpolation Search\n",
        "https://www.geeksforgeeks.org/interpolation-search/\n",
        "\n",
        "Given a sorted array of n uniformly distributed values arr[], write a function to search for a particular element x in the array. \n",
        "\n",
        "Linear Search finds the element in O(n) time, Jump Search takes O(√ n) time and Binary Search take O(Log n) time. The Interpolation Search is an improvement over Binary Search for instances, where the values in a sorted array are uniformly distributed. Binary Search always goes to the middle element to check. On the other hand, interpolation search may go to different locations according to the value of the key being searched. For example, if the value of the key is closer to the last element, interpolation search is likely to start search toward the end side.\n",
        "\n",
        "<b>To find the position to be searched, it uses following formula.</b><br>\n",
        "// The idea of formula is to return higher value of pos<br>\n",
        "// when element to be searched is closer to arr[hi]. And<br>\n",
        "// smaller value when closer to arr[lo]<br>\n",
        "pos = lo + [ (x-arr[lo])*(hi-lo) / (arr[hi]-arr[Lo]) ]<br>\n",
        "\n",
        "arr[] ==> Array where elements need to be searched<br>\n",
        "x     ==> Element to be searched<br>\n",
        "lo    ==> Starting index in arr[]<br>\n",
        "hi    ==> Ending index in arr[]<br>\n",
        "\n",
        "<b>The formula for pos can be derived as follows.</b><br>\n",
        "Let's assume that the elements of the array are linearly distributed.<br> \n",
        "\n",
        "General equation of line : y = m*x + c.<br>\n",
        "y is the value in the array and x is its index.<br>\n",
        "\n",
        "Now putting value of lo,hi and x in the equation<br>\n",
        "arr[hi] = m*hi+c ----(1)<br>\n",
        "arr[lo] = m*lo+c ----(2)<br>\n",
        "x = m*pos + c     ----(3)<br>\n",
        "\n",
        "m = (arr[hi] - arr[lo] )/ (hi - lo)<br>\n",
        "\n",
        "subtracting eqxn (2) from (3)<br>\n",
        "x - arr[lo] = m * (pos - lo)<br>\n",
        "lo + (x - arr[lo])/m = pos<br>\n",
        "pos = lo + (x - arr[lo]) *(hi - lo)/(arr[hi] - arr[lo])<br>\n",
        "\n",
        "<b>Algorithm:</b><br> \n",
        "Rest of the Interpolation algorithm is the same except the above partition logic.<br>\n",
        "Step1: In a loop, calculate the value of “pos” using the probe position formula.<br> \n",
        "Step2: If it is a match, return the index of the item, and exit.<br> \n",
        "Step3: If the item is less than arr[pos], calculate the probe position of the left sub-array. Otherwise calculate the same in the right sub-array.<br> \n",
        "Step4: Repeat until a match is found or the sub-array reduces to zero.\n",
        "Below is the implementation of algorithm."
      ]
    },
    {
      "cell_type": "code",
      "execution_count": null,
      "id": "03f42ff5",
      "metadata": {
        "id": "03f42ff5"
      },
      "outputs": [],
      "source": [
        "def interpolationSearch(arr, lo, hi, x):\n",
        "    \n",
        "    # Since array is sorted, an element present\n",
        "    # in array must be in range defined by corner\n",
        "    if lo <= hi and x >= arr[lo] and x <= arr[hi]:   \n",
        "        # Probing the position with keeping\n",
        "        # uniform distribution in mind.\n",
        "        pos = lo + ((hi - lo)//(arr[hi] - arr[lo])*(x - arr[lo]))\n",
        "\n",
        "        # Condition of target found\n",
        "        if arr[pos] == x:\n",
        "            return pos\n",
        "        # If x is larger, x is in right subarray\n",
        "        if arr[pos] < x:\n",
        "            return interpolationSearch(arr, pos+1, hi, x)\n",
        "\n",
        "        # If x is smaller, x is in left subarray\n",
        "        if arr[pos] > x:\n",
        "            return interpolationSearch(arr, lo, pos-1, x)\n",
        "\n",
        "    return -1"
      ]
    },
    {
      "cell_type": "code",
      "execution_count": null,
      "id": "60683ef2",
      "metadata": {
        "id": "60683ef2",
        "outputId": "e08eaa68-5b55-45d5-dd6c-df7401618813"
      },
      "outputs": [
        {
          "name": "stdout",
          "output_type": "stream",
          "text": [
            "Element found at index 4\n"
          ]
        }
      ],
      "source": [
        "arr = [10, 12, 13, 16, 18, 19, 20,\n",
        "       21, 22, 23, 24, 33, 35, 42, 47]\n",
        "n = len(arr)\n",
        " \n",
        "# Element to be searched\n",
        "x = 18\n",
        "index = interpolationSearch(arr, 0, n - 1, x)\n",
        " \n",
        "if index != -1:\n",
        "    print(\"Element found at index\", index)\n",
        "else:\n",
        "    print(\"Element not found\")"
      ]
    },
    {
      "cell_type": "markdown",
      "id": "c8f55a5f",
      "metadata": {
        "id": "c8f55a5f"
      },
      "source": [
        "## Exponential Search\n",
        "\n",
        "Given a sorted array, and an element x to be searched, find position of x in the array.<br>\n",
        "The name of this searching algorithm may be misleading as it works in O(Log n) time. The name comes from the way it searches an element.\n",
        "\n",
        "Exponential search involves two steps:<br>\n",
        "1. Find range where element is present\n",
        "2. Do Binary Search in above found range.\n",
        "\n",
        "<b>How to find the range where element may be present?</b><br> \n",
        "The idea is to start with subarray size 1, compare its last element with x, then try size 2, then 4 and so on until last element of a subarray is not greater. \n",
        "Once we find an index i (after repeated doubling of i), we know that the element must be present between i/2 and i (Why i/2? because we could not find a greater value in previous iteration)\n",
        "\n",
        "Time Complexity :<br> O(Log n)<br> \n",
        "Auxiliary Space :<br> \n",
        "The below implementation of Binary Search is recursive and requires O(Log n) space. With iterative Binary Search, we need only O(1) space.\n",
        "\n",
        "<b>Applications of Exponential Search:</b><br>\n",
        "1. Exponential Binary Search is particularly useful for unbounded searches, where size of array is infinite. Please refer Unbounded Binary Search for an example.\n",
        "2. It works better than Binary Search for bounded arrays, and also when the element to be searched is closer to the first element."
      ]
    },
    {
      "cell_type": "code",
      "execution_count": null,
      "id": "9009e83b",
      "metadata": {
        "id": "9009e83b"
      },
      "outputs": [],
      "source": [
        "def binarySearch(arr, l, r, x):\n",
        "    if r>= l:\n",
        "        mid = l + (r-l)//2      \n",
        "        if arr[mid] == x:\n",
        "            return mid\n",
        "        if arr[mid] > x:\n",
        "            return binarySearch(arr, l , mid-1, x)\n",
        "        return bianrySearch(arr, mid+1, r, x)\n",
        "    return -1\n",
        "\n",
        "def exponentialSearch(arr, n, x):\n",
        "    # IF x is present at first\n",
        "    # location itself\n",
        "    if arr[0] == x:\n",
        "        return 0\n",
        "    # Find range for binary search\n",
        "    # j by repeated doubling\n",
        "    i = 1\n",
        "    while i < n and arr[i] <= x:\n",
        "        i = i*2\n",
        "    # Call binary search for the found range\n",
        "    return binarySearch(arr, i//2, min(i, n-1), x)"
      ]
    },
    {
      "cell_type": "code",
      "execution_count": null,
      "id": "5135ef7c",
      "metadata": {
        "id": "5135ef7c",
        "outputId": "b7b461bf-7cea-4c87-e7ce-2800bdc6e765"
      },
      "outputs": [
        {
          "name": "stdout",
          "output_type": "stream",
          "text": [
            "Element is present at index 3\n"
          ]
        }
      ],
      "source": [
        "arr = [2, 3, 4, 10, 40]\n",
        "n = len(arr)\n",
        "x = 10\n",
        "result = exponentialSearch(arr, n, x)\n",
        "if result == -1:\n",
        "    print(\"Element not found in the array\")\n",
        "else:\n",
        "    print(\"Element is present at index %d\" %(result))"
      ]
    },
    {
      "cell_type": "markdown",
      "id": "812c5a57",
      "metadata": {
        "id": "812c5a57"
      },
      "source": [
        "## Ternary Search\n",
        "\n",
        "From the first look, it seems the ternary search does less number of comparisons as it makes Log3n recursive calls, but binary search makes Log2n recursive calls. Let us take a closer look. \n",
        "\n",
        "The following is recursive formula for counting comparisons in worst case of Binary Search. \n",
        "T(n) = T(n/2) + 2,  T(1) = 1\n",
        " \n",
        "The following is recursive formula for counting comparisons in worst case of Ternary Search.\n",
        "T(n) = T(n/3) + 4, T(1) = 1\n",
        "\n",
        "In binary search, there are 2Log2n + 1 comparisons in worst case. In ternary search, there are 4Log3n + 1 comparisons in worst case. \n",
        "\n",
        "Time Complexity for Binary search = 2clog2n + O(1)\n",
        "Time Complexity for Ternary search = 4clog3n + O(1)\n",
        "\n",
        "Therefore, the comparison of Ternary and Binary Searches boils down the comparison of expressions 2Log3n and Log2n . The value of 2Log3n can be written as (2 / Log23) * Log2n . Since the value of (2 / Log23) is more than one, Ternary Search does more comparisons than Binary Search in worst case."
      ]
    },
    {
      "cell_type": "code",
      "execution_count": null,
      "id": "10b947a5",
      "metadata": {
        "id": "10b947a5"
      },
      "outputs": [],
      "source": [
        "def ternarySearch(arr, l, r, x):\n",
        "    if r>=l:\n",
        "        mid1 = l + (r - l)//3\n",
        "        mid2 = mid1 + (r - l)//3\n",
        "        \n",
        "        # If x is present at the mid1\n",
        "        if arr[mid1] == x:\n",
        "            return mid1\n",
        "        \n",
        "        # If x is present at the mid2\n",
        "        if arr[mid2] == x:\n",
        "            return mid2\n",
        "        \n",
        "        # If x is present in left one-third\n",
        "        if arr[mid1] > x:\n",
        "            return ternarySearch(arr, l, mid1-1, x)\n",
        "        \n",
        "        # If x is present in right one-third\n",
        "        if arr[mid2] < x:\n",
        "            return ternarySearch(arr, mid2+1, r, x)\n",
        "        \n",
        "        # If x is present in middle one-third\n",
        "        return ternarySearch(arr, mid1+1, mid2-1, x)\n",
        "    \n",
        "    return -1"
      ]
    },
    {
      "cell_type": "code",
      "execution_count": null,
      "id": "1b31d448",
      "metadata": {
        "id": "1b31d448",
        "outputId": "fee954a0-b40d-4d2a-c6aa-0063aa806c14"
      },
      "outputs": [
        {
          "name": "stdout",
          "output_type": "stream",
          "text": [
            "Element is present at index 3\n"
          ]
        }
      ],
      "source": [
        "arr = [2, 3, 4, 10, 40]\n",
        "n = len(arr)\n",
        "x = 10\n",
        "result = ternarySearch(arr, 0, n-1, x)\n",
        "if result == -1:\n",
        "    print(\"Element not found in the array\")\n",
        "else:\n",
        "    print(\"Element is present at index %d\" %(result))"
      ]
    },
    {
      "cell_type": "code",
      "execution_count": null,
      "id": "2d2a0cd1",
      "metadata": {
        "id": "2d2a0cd1"
      },
      "outputs": [],
      "source": []
    }
  ],
  "metadata": {
    "kernelspec": {
      "display_name": "Python 3",
      "language": "python",
      "name": "python3"
    },
    "language_info": {
      "codemirror_mode": {
        "name": "ipython",
        "version": 3
      },
      "file_extension": ".py",
      "mimetype": "text/x-python",
      "name": "python",
      "nbconvert_exporter": "python",
      "pygments_lexer": "ipython3",
      "version": "3.7.10"
    },
    "colab": {
      "provenance": []
    }
  },
  "nbformat": 4,
  "nbformat_minor": 5
}