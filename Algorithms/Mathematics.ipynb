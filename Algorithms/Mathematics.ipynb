{
 "cells": [
  {
   "cell_type": "markdown",
   "id": "3a82b1bb",
   "metadata": {},
   "source": [
    "# Program to count digits in an integer"
   ]
  },
  {
   "cell_type": "markdown",
   "id": "26900e4a",
   "metadata": {},
   "source": [
    "## Method - 1 (Iterative)"
   ]
  },
  {
   "cell_type": "code",
   "execution_count": 1,
   "id": "5f78bf16",
   "metadata": {},
   "outputs": [],
   "source": [
    "# T.C. -> O(d); d = no of digits\n",
    "# S.C. -> Theta(1)\n",
    "def countDigit(n):\n",
    "    count = 0\n",
    "    while n!= 0:\n",
    "        n //= 10\n",
    "        count += 1\n",
    "    return count"
   ]
  },
  {
   "cell_type": "code",
   "execution_count": 2,
   "id": "fc9c3900",
   "metadata": {},
   "outputs": [
    {
     "name": "stdout",
     "output_type": "stream",
     "text": [
      "Number of digits :  9\n"
     ]
    }
   ],
   "source": [
    "n = 345289467\n",
    "print(\"Number of digits : % d\" % (countDigit(n)))"
   ]
  },
  {
   "cell_type": "markdown",
   "id": "e00b81ba",
   "metadata": {},
   "source": [
    "## Method - 2 (Recursive)"
   ]
  },
  {
   "cell_type": "code",
   "execution_count": 5,
   "id": "77da468d",
   "metadata": {},
   "outputs": [],
   "source": [
    "def countDigit(n):\n",
    "    if n/10 == 0:\n",
    "        return 0\n",
    "    return 1 + countDigit(n//10)"
   ]
  },
  {
   "cell_type": "code",
   "execution_count": 6,
   "id": "50eb1ea9",
   "metadata": {},
   "outputs": [
    {
     "name": "stdout",
     "output_type": "stream",
     "text": [
      "Number of digits :  9\n"
     ]
    }
   ],
   "source": [
    "n = 345289467\n",
    "print(\"Number of digits : % d\" % (countDigit(n)))"
   ]
  },
  {
   "cell_type": "markdown",
   "id": "2cd692e3",
   "metadata": {},
   "source": [
    "## Method - 3 (Log-based Solution)"
   ]
  },
  {
   "cell_type": "code",
   "execution_count": 7,
   "id": "0cad5289",
   "metadata": {},
   "outputs": [],
   "source": [
    "import math\n",
    "\n",
    "def countDigit(n):\n",
    "    return math.floor(math.log10(n)+1)"
   ]
  },
  {
   "cell_type": "code",
   "execution_count": 8,
   "id": "35d905a4",
   "metadata": {},
   "outputs": [
    {
     "name": "stdout",
     "output_type": "stream",
     "text": [
      "Number of digits :  9\n"
     ]
    }
   ],
   "source": [
    "n = 345289467\n",
    "print(\"Number of digits : % d\" % (countDigit(n)))"
   ]
  },
  {
   "cell_type": "markdown",
   "id": "9a50d108",
   "metadata": {},
   "source": [
    "# Method - 4 (Using string)"
   ]
  },
  {
   "cell_type": "code",
   "execution_count": 9,
   "id": "403b45c0",
   "metadata": {},
   "outputs": [],
   "source": [
    "def count_digits(n):\n",
    "    n = str(n)\n",
    "    return len(n)"
   ]
  },
  {
   "cell_type": "code",
   "execution_count": 10,
   "id": "f722bf4a",
   "metadata": {},
   "outputs": [
    {
     "name": "stdout",
     "output_type": "stream",
     "text": [
      "12\n"
     ]
    }
   ],
   "source": [
    "n = 456533457776\n",
    "print(count_digits(n))"
   ]
  },
  {
   "cell_type": "markdown",
   "id": "180ca622",
   "metadata": {},
   "source": [
    "# Check if a number is Palindrome"
   ]
  },
  {
   "cell_type": "code",
   "execution_count": 19,
   "id": "96bb4b69",
   "metadata": {},
   "outputs": [],
   "source": [
    "# T.C. - O(d)\n",
    "def isPal(n):\n",
    "    rev = 0\n",
    "    temp = n\n",
    "    while temp!=0:\n",
    "        last_digit = temp%10\n",
    "        rev = rev*10 + last_digit\n",
    "        temp = temp//10\n",
    "    return (rev == n)"
   ]
  },
  {
   "cell_type": "code",
   "execution_count": 20,
   "id": "84058c68",
   "metadata": {},
   "outputs": [
    {
     "name": "stdout",
     "output_type": "stream",
     "text": [
      "True\n"
     ]
    }
   ],
   "source": [
    "n = 121\n",
    "print(isPal(n))"
   ]
  },
  {
   "cell_type": "markdown",
   "id": "ac22de55",
   "metadata": {},
   "source": [
    "# Factorial"
   ]
  },
  {
   "cell_type": "code",
   "execution_count": 21,
   "id": "e9af2192",
   "metadata": {},
   "outputs": [],
   "source": [
    "# T.C. -> theta(n)\n",
    "# S.C. -> theta(n)\n",
    "def factorial(n):\n",
    "    if n==0:\n",
    "        return 1\n",
    "    return n*factorial(n-1)"
   ]
  },
  {
   "cell_type": "code",
   "execution_count": 22,
   "id": "36266d90",
   "metadata": {},
   "outputs": [
    {
     "name": "stdout",
     "output_type": "stream",
     "text": [
      "120\n"
     ]
    }
   ],
   "source": [
    "print(factorial(5))"
   ]
  },
  {
   "cell_type": "markdown",
   "id": "f269eeb5",
   "metadata": {},
   "source": [
    "# Trailing Zeros in Factorial"
   ]
  },
  {
   "cell_type": "markdown",
   "id": "f3895508",
   "metadata": {},
   "source": [
    "## Method - 1 "
   ]
  },
  {
   "cell_type": "code",
   "execution_count": 3,
   "id": "51550b74",
   "metadata": {},
   "outputs": [],
   "source": [
    "# TC -> theta(n)\n",
    "def countZeros(n):\n",
    "    fact = 1\n",
    "    for i in range(2,n+1):\n",
    "        fact = fact*i\n",
    "    res = 0\n",
    "    while fact%10 == 0:\n",
    "        res+=1\n",
    "        fact = fact/10\n",
    "    return res"
   ]
  },
  {
   "cell_type": "code",
   "execution_count": 4,
   "id": "20017dfb",
   "metadata": {},
   "outputs": [
    {
     "data": {
      "text/plain": [
       "1"
      ]
     },
     "execution_count": 4,
     "metadata": {},
     "output_type": "execute_result"
    }
   ],
   "source": [
    "countZeros(6)"
   ]
  },
  {
   "cell_type": "markdown",
   "id": "c794706b",
   "metadata": {},
   "source": [
    "## Method - 2 (Efficient)"
   ]
  },
  {
   "cell_type": "code",
   "execution_count": 22,
   "id": "3639b81b",
   "metadata": {},
   "outputs": [],
   "source": [
    "# TC -> theta(logn)\n",
    "def countTrailingZeros(n):\n",
    "    res = 0\n",
    "    j = 5\n",
    "    while j<=n:\n",
    "        res = res + n//j\n",
    "        j = j*5\n",
    "    return res"
   ]
  },
  {
   "cell_type": "code",
   "execution_count": 21,
   "id": "47603f9b",
   "metadata": {},
   "outputs": [
    {
     "data": {
      "text/plain": [
       "1"
      ]
     },
     "execution_count": 21,
     "metadata": {},
     "output_type": "execute_result"
    }
   ],
   "source": [
    "countTrailingZeros(6)"
   ]
  },
  {
   "cell_type": "markdown",
   "id": "831e3c42",
   "metadata": {},
   "source": [
    "# Greates Common Divisor"
   ]
  },
  {
   "cell_type": "markdown",
   "id": "7243032d",
   "metadata": {},
   "source": [
    "## Method - 1 (Naive)"
   ]
  },
  {
   "cell_type": "code",
   "execution_count": 23,
   "id": "50a82606",
   "metadata": {},
   "outputs": [],
   "source": [
    "# TC - O(min(a,b))\n",
    "def gcd(a,b):\n",
    "    res = min(a,b)\n",
    "    while res > 0:\n",
    "        if a%res == 0 and b%res == 0:\n",
    "            break\n",
    "        res= res - 1\n",
    "    return res"
   ]
  },
  {
   "cell_type": "code",
   "execution_count": 25,
   "id": "4dc656ae",
   "metadata": {},
   "outputs": [
    {
     "data": {
      "text/plain": [
       "1"
      ]
     },
     "execution_count": 25,
     "metadata": {},
     "output_type": "execute_result"
    }
   ],
   "source": [
    "gcd(12, 13)"
   ]
  },
  {
   "cell_type": "markdown",
   "id": "98f119da",
   "metadata": {},
   "source": [
    "## Method - 2 (Euclid Algorithm)"
   ]
  },
  {
   "cell_type": "code",
   "execution_count": 26,
   "id": "05afa1ad",
   "metadata": {},
   "outputs": [],
   "source": [
    "def gcd(a,b):\n",
    "    while a != b:\n",
    "        if a > b:\n",
    "            a = a - b\n",
    "        else:\n",
    "            b = b - a\n",
    "    return a"
   ]
  },
  {
   "cell_type": "code",
   "execution_count": 27,
   "id": "f704627f",
   "metadata": {},
   "outputs": [
    {
     "data": {
      "text/plain": [
       "1"
      ]
     },
     "execution_count": 27,
     "metadata": {},
     "output_type": "execute_result"
    }
   ],
   "source": [
    "gcd(12, 13)"
   ]
  },
  {
   "cell_type": "markdown",
   "id": "75661559",
   "metadata": {},
   "source": [
    "## Method - 3 (Optimized Euclid Algorithm)"
   ]
  },
  {
   "cell_type": "code",
   "execution_count": 28,
   "id": "724eae99",
   "metadata": {},
   "outputs": [],
   "source": [
    "# TC - O(log(min(a,b)))\n",
    "def gcd(a,b):\n",
    "    if b==0:\n",
    "        return a\n",
    "    else:\n",
    "        return gcd(b, a%b)"
   ]
  },
  {
   "cell_type": "code",
   "execution_count": 29,
   "id": "d70df576",
   "metadata": {},
   "outputs": [
    {
     "data": {
      "text/plain": [
       "1"
      ]
     },
     "execution_count": 29,
     "metadata": {},
     "output_type": "execute_result"
    }
   ],
   "source": [
    "gcd(12,13)"
   ]
  },
  {
   "cell_type": "markdown",
   "id": "ce5ed87b",
   "metadata": {},
   "source": [
    "# Least Common Multiple"
   ]
  },
  {
   "cell_type": "markdown",
   "id": "47a76a66",
   "metadata": {},
   "source": [
    "## Method - 1"
   ]
  },
  {
   "cell_type": "code",
   "execution_count": 32,
   "id": "b4cd0cd3",
   "metadata": {},
   "outputs": [],
   "source": [
    "# TC - O(a*b - max(a,b))\n",
    "def lcm(a,b):\n",
    "    res = max(a,b)\n",
    "    while True:\n",
    "        if res%a == 0 and res%b == 0:\n",
    "            return res\n",
    "        res = res + 1\n",
    "    return res"
   ]
  },
  {
   "cell_type": "code",
   "execution_count": 31,
   "id": "53a46012",
   "metadata": {},
   "outputs": [
    {
     "data": {
      "text/plain": [
       "12"
      ]
     },
     "execution_count": 31,
     "metadata": {},
     "output_type": "execute_result"
    }
   ],
   "source": [
    "lcm(3,4)"
   ]
  },
  {
   "cell_type": "markdown",
   "id": "4c0484f3",
   "metadata": {},
   "source": [
    "## Method - 2"
   ]
  },
  {
   "cell_type": "code",
   "execution_count": 35,
   "id": "a2d6c7cd",
   "metadata": {},
   "outputs": [],
   "source": [
    "# TC - O(log(min(a,b)))\n",
    "def gcd(a,b):\n",
    "    if b==0:\n",
    "        return a\n",
    "    return gcd(b,a%b)\n",
    "\n",
    "def lcm(a,b):\n",
    "    return a*b//gcd(a,b)"
   ]
  },
  {
   "cell_type": "code",
   "execution_count": 36,
   "id": "cb0b134a",
   "metadata": {},
   "outputs": [
    {
     "data": {
      "text/plain": [
       "12"
      ]
     },
     "execution_count": 36,
     "metadata": {},
     "output_type": "execute_result"
    }
   ],
   "source": [
    "lcm(3,4)"
   ]
  },
  {
   "cell_type": "markdown",
   "id": "41afb95a",
   "metadata": {},
   "source": [
    "# Check if the number is a prime number or not"
   ]
  },
  {
   "cell_type": "markdown",
   "id": "3f289866",
   "metadata": {},
   "source": [
    "## Method -1"
   ]
  },
  {
   "cell_type": "code",
   "execution_count": 37,
   "id": "876f7e8c",
   "metadata": {},
   "outputs": [],
   "source": [
    "# TC - O(n)\n",
    "def isPrime(n):\n",
    "    if n==1:\n",
    "        return False\n",
    "    for i in range(2,n):\n",
    "        if n%i==0:\n",
    "            return False\n",
    "    return True"
   ]
  },
  {
   "cell_type": "code",
   "execution_count": 39,
   "id": "adc622d8",
   "metadata": {},
   "outputs": [
    {
     "data": {
      "text/plain": [
       "True"
      ]
     },
     "execution_count": 39,
     "metadata": {},
     "output_type": "execute_result"
    }
   ],
   "source": [
    "isPrime(71)"
   ]
  },
  {
   "cell_type": "markdown",
   "id": "c9e71818",
   "metadata": {},
   "source": [
    "## Method - 2"
   ]
  },
  {
   "cell_type": "code",
   "execution_count": 42,
   "id": "3764402d",
   "metadata": {},
   "outputs": [],
   "source": [
    "# TC - O(n ^ 0.5)\n",
    "def isPrime(n):\n",
    "    if n==1:\n",
    "        return False\n",
    "    i = 2\n",
    "    while i*i <= n:\n",
    "        if n%i == 0:\n",
    "            return False\n",
    "        i = i +1\n",
    "    return True"
   ]
  },
  {
   "cell_type": "code",
   "execution_count": 43,
   "id": "8c2551ab",
   "metadata": {},
   "outputs": [
    {
     "data": {
      "text/plain": [
       "True"
      ]
     },
     "execution_count": 43,
     "metadata": {},
     "output_type": "execute_result"
    }
   ],
   "source": [
    "isPrime(7)"
   ]
  },
  {
   "cell_type": "markdown",
   "id": "259589fe",
   "metadata": {},
   "source": [
    "## Method - 3"
   ]
  },
  {
   "cell_type": "code",
   "execution_count": 44,
   "id": "8b07b63e",
   "metadata": {},
   "outputs": [],
   "source": [
    "def isPrime(n):\n",
    "    if n==1:\n",
    "        return False\n",
    "    if n==2 or n==3:\n",
    "        return True\n",
    "    if n%2==0 or n%3==0:\n",
    "        return False\n",
    "    i = 5\n",
    "    while i*i <= n:\n",
    "        if n%i==0 or n%(i+2)==0:\n",
    "            return False\n",
    "        i = i+6\n",
    "    return True"
   ]
  },
  {
   "cell_type": "code",
   "execution_count": 45,
   "id": "27e98a9b",
   "metadata": {},
   "outputs": [
    {
     "data": {
      "text/plain": [
       "True"
      ]
     },
     "execution_count": 45,
     "metadata": {},
     "output_type": "execute_result"
    }
   ],
   "source": [
    "isPrime(7)"
   ]
  },
  {
   "cell_type": "markdown",
   "id": "a6cffd03",
   "metadata": {},
   "source": [
    "# Prime Factors"
   ]
  },
  {
   "cell_type": "markdown",
   "id": "abe14a0a",
   "metadata": {},
   "source": [
    "## Method - 1"
   ]
  },
  {
   "cell_type": "code",
   "execution_count": null,
   "id": "ece96a35",
   "metadata": {},
   "outputs": [],
   "source": [
    "def primeFactors(n):\n",
    "    i = 2\n",
    "    while i < n:\n",
    "        if isPrime(i):\n",
    "            x = i\n",
    "            \n",
    "            "
   ]
  },
  {
   "cell_type": "code",
   "execution_count": null,
   "id": "293ba155",
   "metadata": {},
   "outputs": [],
   "source": []
  },
  {
   "cell_type": "markdown",
   "id": "678a312a",
   "metadata": {},
   "source": [
    "## Method - 2"
   ]
  },
  {
   "cell_type": "code",
   "execution_count": 1,
   "id": "e78f4218",
   "metadata": {},
   "outputs": [
    {
     "data": {
      "text/plain": [
       "7.6909090909090905"
      ]
     },
     "execution_count": 1,
     "metadata": {},
     "output_type": "execute_result"
    }
   ],
   "source": [
    "(9*9 + 9*9 + 9*8 + 11*9 + 9*10)/55 "
   ]
  },
  {
   "cell_type": "code",
   "execution_count": null,
   "id": "cc6db160",
   "metadata": {},
   "outputs": [],
   "source": []
  },
  {
   "cell_type": "markdown",
   "id": "d2518d3c",
   "metadata": {},
   "source": [
    "## Method - 3"
   ]
  },
  {
   "cell_type": "code",
   "execution_count": null,
   "id": "b101976f",
   "metadata": {},
   "outputs": [],
   "source": []
  },
  {
   "cell_type": "code",
   "execution_count": null,
   "id": "dee99944",
   "metadata": {},
   "outputs": [],
   "source": []
  },
  {
   "cell_type": "markdown",
   "id": "2e9b3809",
   "metadata": {},
   "source": [
    "# All divisor's of a number"
   ]
  },
  {
   "cell_type": "code",
   "execution_count": null,
   "id": "c5511005",
   "metadata": {},
   "outputs": [],
   "source": []
  },
  {
   "cell_type": "code",
   "execution_count": null,
   "id": "4d537f83",
   "metadata": {},
   "outputs": [],
   "source": []
  },
  {
   "cell_type": "markdown",
   "id": "adb6b4e5",
   "metadata": {},
   "source": [
    "# Print all prime numbers less than n"
   ]
  },
  {
   "cell_type": "code",
   "execution_count": null,
   "id": "e33fc435",
   "metadata": {},
   "outputs": [],
   "source": []
  },
  {
   "cell_type": "code",
   "execution_count": null,
   "id": "666bb415",
   "metadata": {},
   "outputs": [],
   "source": []
  },
  {
   "cell_type": "markdown",
   "id": "3547c286",
   "metadata": {},
   "source": [
    "# Computing power"
   ]
  },
  {
   "cell_type": "code",
   "execution_count": null,
   "id": "542065dc",
   "metadata": {},
   "outputs": [],
   "source": []
  },
  {
   "cell_type": "code",
   "execution_count": null,
   "id": "5e89f976",
   "metadata": {},
   "outputs": [],
   "source": []
  }
 ],
 "metadata": {
  "kernelspec": {
   "display_name": "Python 3",
   "language": "python",
   "name": "python3"
  },
  "language_info": {
   "codemirror_mode": {
    "name": "ipython",
    "version": 3
   },
   "file_extension": ".py",
   "mimetype": "text/x-python",
   "name": "python",
   "nbconvert_exporter": "python",
   "pygments_lexer": "ipython3",
   "version": "3.7.10"
  }
 },
 "nbformat": 4,
 "nbformat_minor": 5
}
